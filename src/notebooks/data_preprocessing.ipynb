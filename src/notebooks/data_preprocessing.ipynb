{
  "nbformat": 4,
  "nbformat_minor": 0,
  "metadata": {
    "colab": {
      "name": "data-preprocessing.ipynb",
      "provenance": [],
      "collapsed_sections": []
    },
    "kernelspec": {
      "name": "python3",
      "display_name": "Python 3"
    },
    "language_info": {
      "name": "python"
    }
  },
  "cells": [
    {
      "cell_type": "code",
      "source": [
        "#installing dependcies\n",
        "!pip install PyArabic"
      ],
      "metadata": {
        "colab": {
          "base_uri": "https://localhost:8080/"
        },
        "id": "752Vj1TBcrv2",
        "outputId": "2cfb92ea-f7b8-40c4-9976-018b73a7efe4"
      },
      "execution_count": 1,
      "outputs": [
        {
          "output_type": "stream",
          "name": "stdout",
          "text": [
            "Collecting PyArabic\n",
            "  Downloading PyArabic-0.6.14-py3-none-any.whl (126 kB)\n",
            "\u001b[K     |████████████████████████████████| 126 kB 2.8 MB/s \n",
            "\u001b[?25hRequirement already satisfied: six>=1.14.0 in /usr/local/lib/python3.7/dist-packages (from PyArabic) (1.15.0)\n",
            "Installing collected packages: PyArabic\n",
            "Successfully installed PyArabic-0.6.14\n"
          ]
        }
      ]
    },
    {
      "cell_type": "code",
      "source": [
        "import requests\n",
        "import json\n",
        "import pandas as pd\n",
        "import numpy as np\n",
        "from tqdm import tqdm\n",
        "import re\n",
        "import string\n",
        "import sys\n",
        "import pyarabic.araby as araby\n",
        "import nltk \n",
        "from nltk.corpus import stopwords\n",
        "from nltk import word_tokenize, sent_tokenize\n",
        "from textblob import Word\n",
        "\n",
        "from sklearn import preprocessing\n"
      ],
      "metadata": {
        "id": "xKnX8JCuHWoi"
      },
      "execution_count": 2,
      "outputs": []
    },
    {
      "cell_type": "code",
      "execution_count": 3,
      "metadata": {
        "colab": {
          "base_uri": "https://localhost:8080/"
        },
        "id": "WiTdTqikfb2S",
        "outputId": "0bc2d993-f196-4fc5-996e-2a7359f0ee41"
      },
      "outputs": [
        {
          "output_type": "stream",
          "name": "stdout",
          "text": [
            "Mounted at /content/drive/\n"
          ]
        }
      ],
      "source": [
        "#For google colab we mount google drive \n",
        "from google.colab import drive \n",
        "drive.mount(\"/content/drive/\")"
      ]
    },
    {
      "cell_type": "code",
      "source": [
        "tweets_data_path = \"/content/drive/MyDrive/tweets_dataset.csv\""
      ],
      "metadata": {
        "id": "CX-TZAcbHG8s"
      },
      "execution_count": 4,
      "outputs": []
    },
    {
      "cell_type": "code",
      "source": [
        "df=pd.read_csv(tweets_data_path, encoding='utf-8', lineterminator='\\n')"
      ],
      "metadata": {
        "id": "y49gaOEGHQgL"
      },
      "execution_count": 5,
      "outputs": []
    },
    {
      "cell_type": "code",
      "source": [
        "df['tweets'] = df['tweets'].astype(str)"
      ],
      "metadata": {
        "id": "6ppe02r1aG0C"
      },
      "execution_count": 6,
      "outputs": []
    },
    {
      "cell_type": "code",
      "source": [
        "df.info()"
      ],
      "metadata": {
        "colab": {
          "base_uri": "https://localhost:8080/"
        },
        "id": "5ZPZSlG0F5g9",
        "outputId": "afe34c07-3ebf-413a-f17d-6009b4edc25e"
      },
      "execution_count": 7,
      "outputs": [
        {
          "output_type": "stream",
          "name": "stdout",
          "text": [
            "<class 'pandas.core.frame.DataFrame'>\n",
            "RangeIndex: 458197 entries, 0 to 458196\n",
            "Data columns (total 4 columns):\n",
            " #   Column      Non-Null Count   Dtype \n",
            "---  ------      --------------   ----- \n",
            " 0   Unnamed: 0  458197 non-null  int64 \n",
            " 1   id          458197 non-null  int64 \n",
            " 2   dialect     458197 non-null  object\n",
            " 3   tweets      458197 non-null  object\n",
            "dtypes: int64(2), object(2)\n",
            "memory usage: 14.0+ MB\n"
          ]
        }
      ]
    },
    {
      "cell_type": "code",
      "source": [
        "df.loc[:,['dialect','tweets']].head(15)"
      ],
      "metadata": {
        "colab": {
          "base_uri": "https://localhost:8080/",
          "height": 520
        },
        "id": "wCP17XxgdnI4",
        "outputId": "3cbeebd4-331b-4eb6-fb88-2eb86a98c75e"
      },
      "execution_count": 8,
      "outputs": [
        {
          "output_type": "execute_result",
          "data": {
            "text/html": [
              "\n",
              "  <div id=\"df-f5d57101-0caa-4ebc-8704-66a04fe66267\">\n",
              "    <div class=\"colab-df-container\">\n",
              "      <div>\n",
              "<style scoped>\n",
              "    .dataframe tbody tr th:only-of-type {\n",
              "        vertical-align: middle;\n",
              "    }\n",
              "\n",
              "    .dataframe tbody tr th {\n",
              "        vertical-align: top;\n",
              "    }\n",
              "\n",
              "    .dataframe thead th {\n",
              "        text-align: right;\n",
              "    }\n",
              "</style>\n",
              "<table border=\"1\" class=\"dataframe\">\n",
              "  <thead>\n",
              "    <tr style=\"text-align: right;\">\n",
              "      <th></th>\n",
              "      <th>dialect</th>\n",
              "      <th>tweets</th>\n",
              "    </tr>\n",
              "  </thead>\n",
              "  <tbody>\n",
              "    <tr>\n",
              "      <th>0</th>\n",
              "      <td>IQ</td>\n",
              "      <td>@Nw8ieJUwaCAAreT لكن بالنهاية .. ينتفض .. يغير .</td>\n",
              "    </tr>\n",
              "    <tr>\n",
              "      <th>1</th>\n",
              "      <td>IQ</td>\n",
              "      <td>@7zNqXP0yrODdRjK يعني هذا محسوب على البشر .. ح...</td>\n",
              "    </tr>\n",
              "    <tr>\n",
              "      <th>2</th>\n",
              "      <td>IQ</td>\n",
              "      <td>@KanaanRema مبين من كلامه خليجي</td>\n",
              "    </tr>\n",
              "    <tr>\n",
              "      <th>3</th>\n",
              "      <td>IQ</td>\n",
              "      <td>@HAIDER76128900 يسلملي مرورك وروحك الحلوه💐</td>\n",
              "    </tr>\n",
              "    <tr>\n",
              "      <th>4</th>\n",
              "      <td>IQ</td>\n",
              "      <td>@hmo2406 وين هل الغيبه  اخ محمد 🌸🌺</td>\n",
              "    </tr>\n",
              "    <tr>\n",
              "      <th>5</th>\n",
              "      <td>IQ</td>\n",
              "      <td>@Badi9595 @KanaanRema يااخي الإرهابي اذا كان ع...</td>\n",
              "    </tr>\n",
              "    <tr>\n",
              "      <th>6</th>\n",
              "      <td>IQ</td>\n",
              "      <td>@SarahNadhum90 @nUBNTdfVgACYQxV مطلبي يقدم است...</td>\n",
              "    </tr>\n",
              "    <tr>\n",
              "      <th>7</th>\n",
              "      <td>IQ</td>\n",
              "      <td>@KanaanRema @Badi9595 خلص والله لعيونكم انا ما...</td>\n",
              "    </tr>\n",
              "    <tr>\n",
              "      <th>8</th>\n",
              "      <td>IQ</td>\n",
              "      <td>@SalahAlarbawi يمكن سؤال فات الكثير اللي يصور ...</td>\n",
              "    </tr>\n",
              "    <tr>\n",
              "      <th>9</th>\n",
              "      <td>IQ</td>\n",
              "      <td>@Eng_alow91 @cb4LwpWrS1hT5lb @EdyCohen اولا ان...</td>\n",
              "    </tr>\n",
              "    <tr>\n",
              "      <th>10</th>\n",
              "      <td>IQ</td>\n",
              "      <td>@kamal1277New والله هذا الموضوع جداً حساس ويحي...</td>\n",
              "    </tr>\n",
              "    <tr>\n",
              "      <th>11</th>\n",
              "      <td>IQ</td>\n",
              "      <td>@cb4LwpWrS1hT5lb لا ان شاء الله اخوه يجمعنه ال...</td>\n",
              "    </tr>\n",
              "    <tr>\n",
              "      <th>12</th>\n",
              "      <td>IQ</td>\n",
              "      <td>@QSHRXxV36EfuNXV يسعد مساك سيد الحرف الحزين 🌷🙏🌹</td>\n",
              "    </tr>\n",
              "    <tr>\n",
              "      <th>13</th>\n",
              "      <td>IQ</td>\n",
              "      <td>@3Obeidi ههههه عدوله گلبه ورم من عدنه .. گلك خ...</td>\n",
              "    </tr>\n",
              "    <tr>\n",
              "      <th>14</th>\n",
              "      <td>IQ</td>\n",
              "      <td>@0b9lxe0ZNEUlnQm يسلملي مرورك 🌺روعات تواصلك🌷</td>\n",
              "    </tr>\n",
              "  </tbody>\n",
              "</table>\n",
              "</div>\n",
              "      <button class=\"colab-df-convert\" onclick=\"convertToInteractive('df-f5d57101-0caa-4ebc-8704-66a04fe66267')\"\n",
              "              title=\"Convert this dataframe to an interactive table.\"\n",
              "              style=\"display:none;\">\n",
              "        \n",
              "  <svg xmlns=\"http://www.w3.org/2000/svg\" height=\"24px\"viewBox=\"0 0 24 24\"\n",
              "       width=\"24px\">\n",
              "    <path d=\"M0 0h24v24H0V0z\" fill=\"none\"/>\n",
              "    <path d=\"M18.56 5.44l.94 2.06.94-2.06 2.06-.94-2.06-.94-.94-2.06-.94 2.06-2.06.94zm-11 1L8.5 8.5l.94-2.06 2.06-.94-2.06-.94L8.5 2.5l-.94 2.06-2.06.94zm10 10l.94 2.06.94-2.06 2.06-.94-2.06-.94-.94-2.06-.94 2.06-2.06.94z\"/><path d=\"M17.41 7.96l-1.37-1.37c-.4-.4-.92-.59-1.43-.59-.52 0-1.04.2-1.43.59L10.3 9.45l-7.72 7.72c-.78.78-.78 2.05 0 2.83L4 21.41c.39.39.9.59 1.41.59.51 0 1.02-.2 1.41-.59l7.78-7.78 2.81-2.81c.8-.78.8-2.07 0-2.86zM5.41 20L4 18.59l7.72-7.72 1.47 1.35L5.41 20z\"/>\n",
              "  </svg>\n",
              "      </button>\n",
              "      \n",
              "  <style>\n",
              "    .colab-df-container {\n",
              "      display:flex;\n",
              "      flex-wrap:wrap;\n",
              "      gap: 12px;\n",
              "    }\n",
              "\n",
              "    .colab-df-convert {\n",
              "      background-color: #E8F0FE;\n",
              "      border: none;\n",
              "      border-radius: 50%;\n",
              "      cursor: pointer;\n",
              "      display: none;\n",
              "      fill: #1967D2;\n",
              "      height: 32px;\n",
              "      padding: 0 0 0 0;\n",
              "      width: 32px;\n",
              "    }\n",
              "\n",
              "    .colab-df-convert:hover {\n",
              "      background-color: #E2EBFA;\n",
              "      box-shadow: 0px 1px 2px rgba(60, 64, 67, 0.3), 0px 1px 3px 1px rgba(60, 64, 67, 0.15);\n",
              "      fill: #174EA6;\n",
              "    }\n",
              "\n",
              "    [theme=dark] .colab-df-convert {\n",
              "      background-color: #3B4455;\n",
              "      fill: #D2E3FC;\n",
              "    }\n",
              "\n",
              "    [theme=dark] .colab-df-convert:hover {\n",
              "      background-color: #434B5C;\n",
              "      box-shadow: 0px 1px 3px 1px rgba(0, 0, 0, 0.15);\n",
              "      filter: drop-shadow(0px 1px 2px rgba(0, 0, 0, 0.3));\n",
              "      fill: #FFFFFF;\n",
              "    }\n",
              "  </style>\n",
              "\n",
              "      <script>\n",
              "        const buttonEl =\n",
              "          document.querySelector('#df-f5d57101-0caa-4ebc-8704-66a04fe66267 button.colab-df-convert');\n",
              "        buttonEl.style.display =\n",
              "          google.colab.kernel.accessAllowed ? 'block' : 'none';\n",
              "\n",
              "        async function convertToInteractive(key) {\n",
              "          const element = document.querySelector('#df-f5d57101-0caa-4ebc-8704-66a04fe66267');\n",
              "          const dataTable =\n",
              "            await google.colab.kernel.invokeFunction('convertToInteractive',\n",
              "                                                     [key], {});\n",
              "          if (!dataTable) return;\n",
              "\n",
              "          const docLinkHtml = 'Like what you see? Visit the ' +\n",
              "            '<a target=\"_blank\" href=https://colab.research.google.com/notebooks/data_table.ipynb>data table notebook</a>'\n",
              "            + ' to learn more about interactive tables.';\n",
              "          element.innerHTML = '';\n",
              "          dataTable['output_type'] = 'display_data';\n",
              "          await google.colab.output.renderOutput(dataTable, element);\n",
              "          const docLink = document.createElement('div');\n",
              "          docLink.innerHTML = docLinkHtml;\n",
              "          element.appendChild(docLink);\n",
              "        }\n",
              "      </script>\n",
              "    </div>\n",
              "  </div>\n",
              "  "
            ],
            "text/plain": [
              "   dialect                                             tweets\n",
              "0       IQ   @Nw8ieJUwaCAAreT لكن بالنهاية .. ينتفض .. يغير .\n",
              "1       IQ  @7zNqXP0yrODdRjK يعني هذا محسوب على البشر .. ح...\n",
              "2       IQ                    @KanaanRema مبين من كلامه خليجي\n",
              "3       IQ         @HAIDER76128900 يسلملي مرورك وروحك الحلوه💐\n",
              "4       IQ                 @hmo2406 وين هل الغيبه  اخ محمد 🌸🌺\n",
              "5       IQ  @Badi9595 @KanaanRema يااخي الإرهابي اذا كان ع...\n",
              "6       IQ  @SarahNadhum90 @nUBNTdfVgACYQxV مطلبي يقدم است...\n",
              "7       IQ  @KanaanRema @Badi9595 خلص والله لعيونكم انا ما...\n",
              "8       IQ  @SalahAlarbawi يمكن سؤال فات الكثير اللي يصور ...\n",
              "9       IQ  @Eng_alow91 @cb4LwpWrS1hT5lb @EdyCohen اولا ان...\n",
              "10      IQ  @kamal1277New والله هذا الموضوع جداً حساس ويحي...\n",
              "11      IQ  @cb4LwpWrS1hT5lb لا ان شاء الله اخوه يجمعنه ال...\n",
              "12      IQ    @QSHRXxV36EfuNXV يسعد مساك سيد الحرف الحزين 🌷🙏🌹\n",
              "13      IQ  @3Obeidi ههههه عدوله گلبه ورم من عدنه .. گلك خ...\n",
              "14      IQ       @0b9lxe0ZNEUlnQm يسلملي مرورك 🌺روعات تواصلك🌷"
            ]
          },
          "metadata": {},
          "execution_count": 8
        }
      ]
    },
    {
      "cell_type": "markdown",
      "source": [
        "## **Text Pre-processing**"
      ],
      "metadata": {
        "id": "V69jZ89LRbXJ"
      }
    },
    {
      "cell_type": "markdown",
      "source": [
        "Description"
      ],
      "metadata": {
        "id": "JGvGLUoLRosc"
      }
    },
    {
      "cell_type": "markdown",
      "source": [
        "**Text Cleaning**"
      ],
      "metadata": {
        "id": "FHLupUFyRq_k"
      }
    },
    {
      "cell_type": "code",
      "source": [
        "###############"
      ],
      "metadata": {
        "id": "xp51mrt6UtE3"
      },
      "execution_count": 9,
      "outputs": []
    },
    {
      "cell_type": "markdown",
      "source": [
        "\n",
        "\n",
        "1. Removing Punctuations and Symbols\n",
        "\n"
      ],
      "metadata": {
        "id": "iqpZuh1PR1d2"
      }
    },
    {
      "cell_type": "code",
      "source": [
        "arabic_punctuations = '''`÷×؛<>_()*&^%][ـ،/:\"؟.,'{}~¦+|!”…“–ـ'''\n",
        "english_punctuations = string.punctuation\n",
        "punctuations_list = arabic_punctuations + english_punctuations"
      ],
      "metadata": {
        "id": "RnwnyFhGd-nA"
      },
      "execution_count": 10,
      "outputs": []
    },
    {
      "cell_type": "code",
      "source": [
        "def remove_punctuations(text):\n",
        "    translator = str.maketrans('', '', punctuations_list)\n",
        "    return text.translate(translator)"
      ],
      "metadata": {
        "id": "GbGEDbL9eBZ0"
      },
      "execution_count": 11,
      "outputs": []
    },
    {
      "cell_type": "code",
      "source": [
        "df['tweets'] = df['tweets'].apply(remove_punctuations)"
      ],
      "metadata": {
        "id": "ShBRmcadeC8S"
      },
      "execution_count": 12,
      "outputs": []
    },
    {
      "cell_type": "markdown",
      "source": [
        "2. Remove Emojis\n",
        "\n"
      ],
      "metadata": {
        "id": "kyZHvM9TqJCt"
      }
    },
    {
      "cell_type": "code",
      "source": [
        "def remove_emoji(string):\n",
        "    emoji_pattern = re.compile(\"[\"\n",
        "                               u\"\\U0001F600-\\U0001F64F\"  # emoticons\n",
        "                               u\"\\U0001F300-\\U0001F5FF\"  # symbols & pictographs\n",
        "                               u\"\\U0001F680-\\U0001F6FF\"  # transport & map symbols\n",
        "                               u\"\\U0001F1E0-\\U0001F1FF\"  # flags (iOS)\n",
        "                               u\"\\U00002500-\\U00002BEF\"  # chinese char\n",
        "                               u\"\\U00002702-\\U000027B0\"\n",
        "                               u\"\\U00002702-\\U000027B0\"\n",
        "                               u\"\\U000024C2-\\U0001F251\"\n",
        "                               u\"\\U0001f926-\\U0001f937\"\n",
        "                               u\"\\U00010000-\\U0010ffff\"\n",
        "                               u\"\\u2640-\\u2642\"\n",
        "                               u\"\\u2600-\\u2B55\"\n",
        "                               u\"\\u200d\"\n",
        "                               u\"\\u23cf\"\n",
        "                               u\"\\u23e9\"\n",
        "                               u\"\\u231a\"\n",
        "                               u\"\\ufe0f\"  # dingbats\n",
        "                               u\"\\u3030\"\n",
        "                               \"]+\", flags=re.UNICODE)\n",
        "    return emoji_pattern.sub(r'', string)"
      ],
      "metadata": {
        "id": "2PWGKPYnuavu"
      },
      "execution_count": 13,
      "outputs": []
    },
    {
      "cell_type": "code",
      "source": [
        "df['tweets'] = df['tweets'].apply(remove_emoji)"
      ],
      "metadata": {
        "id": "M2JBhVRqrBb7"
      },
      "execution_count": 14,
      "outputs": []
    },
    {
      "cell_type": "markdown",
      "source": [
        "3. Stop Words Elimination\n",
        "\n",
        "\n"
      ],
      "metadata": {
        "id": "2VR7ChyAmLaE"
      }
    },
    {
      "cell_type": "code",
      "source": [
        "nltk.download('stopwords')\n",
        "stop=stopwords.words('arabic')"
      ],
      "metadata": {
        "colab": {
          "base_uri": "https://localhost:8080/"
        },
        "id": "ENLTruOPnLl_",
        "outputId": "1ad7ff1d-493b-4edf-8b31-039f051ce394"
      },
      "execution_count": 15,
      "outputs": [
        {
          "output_type": "stream",
          "name": "stdout",
          "text": [
            "[nltk_data] Downloading package stopwords to /root/nltk_data...\n",
            "[nltk_data]   Unzipping corpora/stopwords.zip.\n"
          ]
        }
      ]
    },
    {
      "cell_type": "code",
      "source": [
        "df['tweets'] = df['tweets'].apply(lambda x:\" \".join(x for x in x.split() if x not in stop))"
      ],
      "metadata": {
        "id": "QmMFp3PGmTL-"
      },
      "execution_count": 16,
      "outputs": []
    },
    {
      "cell_type": "markdown",
      "source": [
        "4. Remove Diacritics \n",
        "\n"
      ],
      "metadata": {
        "id": "n04uve5nYJQj"
      }
    },
    {
      "cell_type": "code",
      "source": [
        "def remove_diacritics(text):\n",
        "    arabic_diacritics = re.compile(\"\"\"\n",
        "                             ّ    | # Tashdid\n",
        "                             َ    | # Fatha\n",
        "                             ً    | # Tanwin Fath\n",
        "                             ُ    | # Damma\n",
        "                             ٌ    | # Tanwin Damm\n",
        "                             ِ    | # Kasra\n",
        "                             ٍ    | # Tanwin Kasr\n",
        "                             ْ    | # Sukun\n",
        "                             ـ     # Tatwil/Kashida\n",
        "                         \"\"\", re.VERBOSE)\n",
        "    text = re.sub(arabic_diacritics, '', text)\n",
        "    text = araby.strip_diacritics(text)\n",
        "    text = araby.strip_shadda(text)\n",
        "    text = araby.strip_tashkeel(text)\n",
        "    return text"
      ],
      "metadata": {
        "id": "kjCtrxNQkPhF"
      },
      "execution_count": 17,
      "outputs": []
    },
    {
      "cell_type": "code",
      "source": [
        "df['tweets'] = df['tweets'].apply(remove_diacritics)"
      ],
      "metadata": {
        "id": "NEx4ycJlbug1"
      },
      "execution_count": 18,
      "outputs": []
    },
    {
      "cell_type": "markdown",
      "source": [
        "5. Remove Non-Arabic Characters\n",
        "\n"
      ],
      "metadata": {
        "id": "HG0i_0nIuydw"
      }
    },
    {
      "cell_type": "code",
      "source": [
        "def remove_non_arabic(text):\n",
        "    text = re.sub('[%s]' % re.escape(\"\"\"!\"#$%&'()*+,،-./:;<=>؟?@[\\]^_`{|}~\"\"\"), ' ', text)\n",
        "    text = re.sub('([@A-Za-z0-9_ـــــــــــــ]+)|[^\\w\\s]|#|http\\S+',' ',text)\n",
        "    text = re.sub(r'\\\\u[A-Za-z0-9\\\\]+',' ',text)\n",
        "    return text"
      ],
      "metadata": {
        "id": "s8GHk4z2uyN_"
      },
      "execution_count": 19,
      "outputs": []
    },
    {
      "cell_type": "code",
      "source": [
        "df['tweets'] = df['tweets'].apply(remove_non_arabic)"
      ],
      "metadata": {
        "id": "XieMavKrwjR4"
      },
      "execution_count": 20,
      "outputs": []
    },
    {
      "cell_type": "markdown",
      "source": [
        "5. Remove Repeated Characters \n",
        "\n"
      ],
      "metadata": {
        "id": "dRRvK3kNlrPZ"
      }
    },
    {
      "cell_type": "code",
      "source": [
        "def remove_repeating_characters(text):\n",
        "    text = text.strip()\n",
        "    text = re.sub(\"[إأٱآا]\", \"ا\", text)\n",
        "    text = re.sub(\"ى\", \"ي\", text)\n",
        "    text = re.sub(\"ؤ\", \"ء\", text)\n",
        "    text = re.sub(\"ئ\", \"ء\", text)\n",
        "    text = re.sub(\"ة\", \"ه\", text)\n",
        "    text = re.sub(r'(.)\\1+', r'\\1', text)\n",
        "    return text"
      ],
      "metadata": {
        "id": "ChTD1LYAZpt5"
      },
      "execution_count": 21,
      "outputs": []
    },
    {
      "cell_type": "code",
      "source": [
        "df['tweets'] = df['tweets'].apply(remove_repeating_characters)"
      ],
      "metadata": {
        "id": "SGKL-6W75Ie6"
      },
      "execution_count": 22,
      "outputs": []
    },
    {
      "cell_type": "markdown",
      "source": [
        "6. Lemmatisation\n",
        "\n"
      ],
      "metadata": {
        "id": "MPKKCaSx8qyI"
      }
    },
    {
      "cell_type": "code",
      "source": [
        "nltk.download('wordnet')\n",
        "df['tweets'] = df['tweets'].apply(lambda x: \" \".join([Word(word).lemmatize() for word in x.split()]))"
      ],
      "metadata": {
        "colab": {
          "base_uri": "https://localhost:8080/"
        },
        "id": "alq4SeGC8qmh",
        "outputId": "b2584591-8a81-4ef6-c377-263be0818ead"
      },
      "execution_count": 23,
      "outputs": [
        {
          "output_type": "stream",
          "name": "stdout",
          "text": [
            "[nltk_data] Downloading package wordnet to /root/nltk_data...\n",
            "[nltk_data]   Unzipping corpora/wordnet.zip.\n"
          ]
        }
      ]
    },
    {
      "cell_type": "code",
      "source": [
        "df.loc[:,['dialect','tweets']].head(15)"
      ],
      "metadata": {
        "colab": {
          "base_uri": "https://localhost:8080/",
          "height": 520
        },
        "id": "X_RPRvlF9i34",
        "outputId": "3250049f-fb6b-4a92-d322-32cbbca6d9e1"
      },
      "execution_count": 24,
      "outputs": [
        {
          "output_type": "execute_result",
          "data": {
            "text/html": [
              "\n",
              "  <div id=\"df-b79e401e-7416-4403-a839-c18fb912f5df\">\n",
              "    <div class=\"colab-df-container\">\n",
              "      <div>\n",
              "<style scoped>\n",
              "    .dataframe tbody tr th:only-of-type {\n",
              "        vertical-align: middle;\n",
              "    }\n",
              "\n",
              "    .dataframe tbody tr th {\n",
              "        vertical-align: top;\n",
              "    }\n",
              "\n",
              "    .dataframe thead th {\n",
              "        text-align: right;\n",
              "    }\n",
              "</style>\n",
              "<table border=\"1\" class=\"dataframe\">\n",
              "  <thead>\n",
              "    <tr style=\"text-align: right;\">\n",
              "      <th></th>\n",
              "      <th>dialect</th>\n",
              "      <th>tweets</th>\n",
              "    </tr>\n",
              "  </thead>\n",
              "  <tbody>\n",
              "    <tr>\n",
              "      <th>0</th>\n",
              "      <td>IQ</td>\n",
              "      <td>بالنهايه ينتفض يغير</td>\n",
              "    </tr>\n",
              "    <tr>\n",
              "      <th>1</th>\n",
              "      <td>IQ</td>\n",
              "      <td>يعني محسوب البشر حيونه وحشيه وتطلبون الغرب يحت...</td>\n",
              "    </tr>\n",
              "    <tr>\n",
              "      <th>2</th>\n",
              "      <td>IQ</td>\n",
              "      <td>مبين كلامه خليجي</td>\n",
              "    </tr>\n",
              "    <tr>\n",
              "      <th>3</th>\n",
              "      <td>IQ</td>\n",
              "      <td>يسلملي مرورك وروحك الحلوه</td>\n",
              "    </tr>\n",
              "    <tr>\n",
              "      <th>4</th>\n",
              "      <td>IQ</td>\n",
              "      <td>وين الغيبه اخ محمد</td>\n",
              "    </tr>\n",
              "    <tr>\n",
              "      <th>5</th>\n",
              "      <td>IQ</td>\n",
              "      <td>ياخي الارهابي اذا عراقي سعودي فلسطيني وين المش...</td>\n",
              "    </tr>\n",
              "    <tr>\n",
              "      <th>6</th>\n",
              "      <td>IQ</td>\n",
              "      <td>مطلبي يقدم استقالته وفوگاها اعتذار</td>\n",
              "    </tr>\n",
              "    <tr>\n",
              "      <th>7</th>\n",
              "      <td>IQ</td>\n",
              "      <td>خلص واله لعيونكم انا ماعندي شيء معه بالعكس متا...</td>\n",
              "    </tr>\n",
              "    <tr>\n",
              "      <th>8</th>\n",
              "      <td>IQ</td>\n",
              "      <td>يمكن سءال فات الكثير الي يصور شنو موقفه وكانه ...</td>\n",
              "    </tr>\n",
              "    <tr>\n",
              "      <th>9</th>\n",
              "      <td>IQ</td>\n",
              "      <td>اولا اني ردت رجل جنوبي والي ذكر حجابها ثانيا ا...</td>\n",
              "    </tr>\n",
              "    <tr>\n",
              "      <th>10</th>\n",
              "      <td>IQ</td>\n",
              "      <td>واله الموضوع جدا حساس ويحير اتفق معك انت لاترو...</td>\n",
              "    </tr>\n",
              "    <tr>\n",
              "      <th>11</th>\n",
              "      <td>IQ</td>\n",
              "      <td>ان شاء اله اخوه يجمعنه العراق الي بكل جحيمه حلو</td>\n",
              "    </tr>\n",
              "    <tr>\n",
              "      <th>12</th>\n",
              "      <td>IQ</td>\n",
              "      <td>يسعد مساك سيد الحرف الحزين</td>\n",
              "    </tr>\n",
              "    <tr>\n",
              "      <th>13</th>\n",
              "      <td>IQ</td>\n",
              "      <td>ه عدوله گلبه ورم عدنه گلك خل اتونس همه بكل شيء...</td>\n",
              "    </tr>\n",
              "    <tr>\n",
              "      <th>14</th>\n",
              "      <td>IQ</td>\n",
              "      <td>يسلملي مرورك روعات تواصلك</td>\n",
              "    </tr>\n",
              "  </tbody>\n",
              "</table>\n",
              "</div>\n",
              "      <button class=\"colab-df-convert\" onclick=\"convertToInteractive('df-b79e401e-7416-4403-a839-c18fb912f5df')\"\n",
              "              title=\"Convert this dataframe to an interactive table.\"\n",
              "              style=\"display:none;\">\n",
              "        \n",
              "  <svg xmlns=\"http://www.w3.org/2000/svg\" height=\"24px\"viewBox=\"0 0 24 24\"\n",
              "       width=\"24px\">\n",
              "    <path d=\"M0 0h24v24H0V0z\" fill=\"none\"/>\n",
              "    <path d=\"M18.56 5.44l.94 2.06.94-2.06 2.06-.94-2.06-.94-.94-2.06-.94 2.06-2.06.94zm-11 1L8.5 8.5l.94-2.06 2.06-.94-2.06-.94L8.5 2.5l-.94 2.06-2.06.94zm10 10l.94 2.06.94-2.06 2.06-.94-2.06-.94-.94-2.06-.94 2.06-2.06.94z\"/><path d=\"M17.41 7.96l-1.37-1.37c-.4-.4-.92-.59-1.43-.59-.52 0-1.04.2-1.43.59L10.3 9.45l-7.72 7.72c-.78.78-.78 2.05 0 2.83L4 21.41c.39.39.9.59 1.41.59.51 0 1.02-.2 1.41-.59l7.78-7.78 2.81-2.81c.8-.78.8-2.07 0-2.86zM5.41 20L4 18.59l7.72-7.72 1.47 1.35L5.41 20z\"/>\n",
              "  </svg>\n",
              "      </button>\n",
              "      \n",
              "  <style>\n",
              "    .colab-df-container {\n",
              "      display:flex;\n",
              "      flex-wrap:wrap;\n",
              "      gap: 12px;\n",
              "    }\n",
              "\n",
              "    .colab-df-convert {\n",
              "      background-color: #E8F0FE;\n",
              "      border: none;\n",
              "      border-radius: 50%;\n",
              "      cursor: pointer;\n",
              "      display: none;\n",
              "      fill: #1967D2;\n",
              "      height: 32px;\n",
              "      padding: 0 0 0 0;\n",
              "      width: 32px;\n",
              "    }\n",
              "\n",
              "    .colab-df-convert:hover {\n",
              "      background-color: #E2EBFA;\n",
              "      box-shadow: 0px 1px 2px rgba(60, 64, 67, 0.3), 0px 1px 3px 1px rgba(60, 64, 67, 0.15);\n",
              "      fill: #174EA6;\n",
              "    }\n",
              "\n",
              "    [theme=dark] .colab-df-convert {\n",
              "      background-color: #3B4455;\n",
              "      fill: #D2E3FC;\n",
              "    }\n",
              "\n",
              "    [theme=dark] .colab-df-convert:hover {\n",
              "      background-color: #434B5C;\n",
              "      box-shadow: 0px 1px 3px 1px rgba(0, 0, 0, 0.15);\n",
              "      filter: drop-shadow(0px 1px 2px rgba(0, 0, 0, 0.3));\n",
              "      fill: #FFFFFF;\n",
              "    }\n",
              "  </style>\n",
              "\n",
              "      <script>\n",
              "        const buttonEl =\n",
              "          document.querySelector('#df-b79e401e-7416-4403-a839-c18fb912f5df button.colab-df-convert');\n",
              "        buttonEl.style.display =\n",
              "          google.colab.kernel.accessAllowed ? 'block' : 'none';\n",
              "\n",
              "        async function convertToInteractive(key) {\n",
              "          const element = document.querySelector('#df-b79e401e-7416-4403-a839-c18fb912f5df');\n",
              "          const dataTable =\n",
              "            await google.colab.kernel.invokeFunction('convertToInteractive',\n",
              "                                                     [key], {});\n",
              "          if (!dataTable) return;\n",
              "\n",
              "          const docLinkHtml = 'Like what you see? Visit the ' +\n",
              "            '<a target=\"_blank\" href=https://colab.research.google.com/notebooks/data_table.ipynb>data table notebook</a>'\n",
              "            + ' to learn more about interactive tables.';\n",
              "          element.innerHTML = '';\n",
              "          dataTable['output_type'] = 'display_data';\n",
              "          await google.colab.output.renderOutput(dataTable, element);\n",
              "          const docLink = document.createElement('div');\n",
              "          docLink.innerHTML = docLinkHtml;\n",
              "          element.appendChild(docLink);\n",
              "        }\n",
              "      </script>\n",
              "    </div>\n",
              "  </div>\n",
              "  "
            ],
            "text/plain": [
              "   dialect                                             tweets\n",
              "0       IQ                                بالنهايه ينتفض يغير\n",
              "1       IQ  يعني محسوب البشر حيونه وحشيه وتطلبون الغرب يحت...\n",
              "2       IQ                                   مبين كلامه خليجي\n",
              "3       IQ                          يسلملي مرورك وروحك الحلوه\n",
              "4       IQ                                 وين الغيبه اخ محمد\n",
              "5       IQ  ياخي الارهابي اذا عراقي سعودي فلسطيني وين المش...\n",
              "6       IQ                 مطلبي يقدم استقالته وفوگاها اعتذار\n",
              "7       IQ  خلص واله لعيونكم انا ماعندي شيء معه بالعكس متا...\n",
              "8       IQ  يمكن سءال فات الكثير الي يصور شنو موقفه وكانه ...\n",
              "9       IQ  اولا اني ردت رجل جنوبي والي ذكر حجابها ثانيا ا...\n",
              "10      IQ  واله الموضوع جدا حساس ويحير اتفق معك انت لاترو...\n",
              "11      IQ    ان شاء اله اخوه يجمعنه العراق الي بكل جحيمه حلو\n",
              "12      IQ                         يسعد مساك سيد الحرف الحزين\n",
              "13      IQ  ه عدوله گلبه ورم عدنه گلك خل اتونس همه بكل شيء...\n",
              "14      IQ                          يسلملي مرورك روعات تواصلك"
            ]
          },
          "metadata": {},
          "execution_count": 24
        }
      ]
    },
    {
      "cell_type": "markdown",
      "source": [
        "7. Encoding the Target Classes\n",
        "\n"
      ],
      "metadata": {
        "id": "4ztnxLpE7mJN"
      }
    },
    {
      "cell_type": "code",
      "source": [
        "df.dialect.unique()"
      ],
      "metadata": {
        "id": "mwSlQDZj7mBC",
        "colab": {
          "base_uri": "https://localhost:8080/"
        },
        "outputId": "586e659a-1696-40c0-a2aa-4be9611bb488"
      },
      "execution_count": 25,
      "outputs": [
        {
          "output_type": "execute_result",
          "data": {
            "text/plain": [
              "array(['IQ', 'LY', 'QA', 'PL', 'SY', 'TN', 'JO', 'MA', 'SA', 'YE', 'DZ',\n",
              "       'EG', 'LB', 'KW', 'OM', 'SD', 'AE', 'BH'], dtype=object)"
            ]
          },
          "metadata": {},
          "execution_count": 25
        }
      ]
    },
    {
      "cell_type": "code",
      "source": [
        "#Encoding output labels\n",
        "encoding = preprocessing.LabelEncoder()\n",
        "\n",
        "#using fit transform on the data\n",
        "y = encoding.fit_transform(df.dialect.values)\n",
        "\n",
        "#replace dialec column with the encoded\n",
        "df['dialect'] = y"
      ],
      "metadata": {
        "id": "vWXhpE9dnrjW"
      },
      "execution_count": 30,
      "outputs": []
    },
    {
      "cell_type": "code",
      "source": [
        "df.info()"
      ],
      "metadata": {
        "colab": {
          "base_uri": "https://localhost:8080/"
        },
        "id": "6Am4F_z0n2Pi",
        "outputId": "1d8715b2-e6df-4a1e-a2e9-b35c30293e90"
      },
      "execution_count": 31,
      "outputs": [
        {
          "output_type": "stream",
          "name": "stdout",
          "text": [
            "<class 'pandas.core.frame.DataFrame'>\n",
            "RangeIndex: 458197 entries, 0 to 458196\n",
            "Data columns (total 4 columns):\n",
            " #   Column      Non-Null Count   Dtype \n",
            "---  ------      --------------   ----- \n",
            " 0   Unnamed: 0  458197 non-null  int64 \n",
            " 1   id          458197 non-null  int64 \n",
            " 2   dialect     458197 non-null  int64 \n",
            " 3   tweets      458197 non-null  object\n",
            "dtypes: int64(3), object(1)\n",
            "memory usage: 14.0+ MB\n"
          ]
        }
      ]
    },
    {
      "cell_type": "code",
      "source": [
        "df.head(15)"
      ],
      "metadata": {
        "colab": {
          "base_uri": "https://localhost:8080/",
          "height": 520
        },
        "id": "7qU08pHXWthy",
        "outputId": "85b1fe8d-18a7-41ac-de8c-6fd230830aa7"
      },
      "execution_count": 32,
      "outputs": [
        {
          "output_type": "execute_result",
          "data": {
            "text/html": [
              "\n",
              "  <div id=\"df-82b6899e-0b0d-4124-a818-98d706d5946c\">\n",
              "    <div class=\"colab-df-container\">\n",
              "      <div>\n",
              "<style scoped>\n",
              "    .dataframe tbody tr th:only-of-type {\n",
              "        vertical-align: middle;\n",
              "    }\n",
              "\n",
              "    .dataframe tbody tr th {\n",
              "        vertical-align: top;\n",
              "    }\n",
              "\n",
              "    .dataframe thead th {\n",
              "        text-align: right;\n",
              "    }\n",
              "</style>\n",
              "<table border=\"1\" class=\"dataframe\">\n",
              "  <thead>\n",
              "    <tr style=\"text-align: right;\">\n",
              "      <th></th>\n",
              "      <th>Unnamed: 0</th>\n",
              "      <th>id</th>\n",
              "      <th>dialect</th>\n",
              "      <th>tweets</th>\n",
              "    </tr>\n",
              "  </thead>\n",
              "  <tbody>\n",
              "    <tr>\n",
              "      <th>0</th>\n",
              "      <td>0</td>\n",
              "      <td>1175358310087892992</td>\n",
              "      <td>4</td>\n",
              "      <td>بالنهايه ينتفض يغير</td>\n",
              "    </tr>\n",
              "    <tr>\n",
              "      <th>1</th>\n",
              "      <td>1</td>\n",
              "      <td>1175416117793349632</td>\n",
              "      <td>4</td>\n",
              "      <td>يعني محسوب البشر حيونه وحشيه وتطلبون الغرب يحت...</td>\n",
              "    </tr>\n",
              "    <tr>\n",
              "      <th>2</th>\n",
              "      <td>2</td>\n",
              "      <td>1175450108898565888</td>\n",
              "      <td>4</td>\n",
              "      <td>مبين كلامه خليجي</td>\n",
              "    </tr>\n",
              "    <tr>\n",
              "      <th>3</th>\n",
              "      <td>3</td>\n",
              "      <td>1175471073770573824</td>\n",
              "      <td>4</td>\n",
              "      <td>يسلملي مرورك وروحك الحلوه</td>\n",
              "    </tr>\n",
              "    <tr>\n",
              "      <th>4</th>\n",
              "      <td>4</td>\n",
              "      <td>1175496913145217024</td>\n",
              "      <td>4</td>\n",
              "      <td>وين الغيبه اخ محمد</td>\n",
              "    </tr>\n",
              "    <tr>\n",
              "      <th>5</th>\n",
              "      <td>5</td>\n",
              "      <td>1175668034146643968</td>\n",
              "      <td>4</td>\n",
              "      <td>ياخي الارهابي اذا عراقي سعودي فلسطيني وين المش...</td>\n",
              "    </tr>\n",
              "    <tr>\n",
              "      <th>6</th>\n",
              "      <td>6</td>\n",
              "      <td>1175670153884983296</td>\n",
              "      <td>4</td>\n",
              "      <td>مطلبي يقدم استقالته وفوگاها اعتذار</td>\n",
              "    </tr>\n",
              "    <tr>\n",
              "      <th>7</th>\n",
              "      <td>7</td>\n",
              "      <td>1175671762580856832</td>\n",
              "      <td>4</td>\n",
              "      <td>خلص واله لعيونكم انا ماعندي شيء معه بالعكس متا...</td>\n",
              "    </tr>\n",
              "    <tr>\n",
              "      <th>8</th>\n",
              "      <td>8</td>\n",
              "      <td>1175715664398561280</td>\n",
              "      <td>4</td>\n",
              "      <td>يمكن سءال فات الكثير الي يصور شنو موقفه وكانه ...</td>\n",
              "    </tr>\n",
              "    <tr>\n",
              "      <th>9</th>\n",
              "      <td>9</td>\n",
              "      <td>1176019816072777728</td>\n",
              "      <td>4</td>\n",
              "      <td>اولا اني ردت رجل جنوبي والي ذكر حجابها ثانيا ا...</td>\n",
              "    </tr>\n",
              "    <tr>\n",
              "      <th>10</th>\n",
              "      <td>10</td>\n",
              "      <td>1176068581487992832</td>\n",
              "      <td>4</td>\n",
              "      <td>واله الموضوع جدا حساس ويحير اتفق معك انت لاترو...</td>\n",
              "    </tr>\n",
              "    <tr>\n",
              "      <th>11</th>\n",
              "      <td>11</td>\n",
              "      <td>1176068868747538432</td>\n",
              "      <td>4</td>\n",
              "      <td>ان شاء اله اخوه يجمعنه العراق الي بكل جحيمه حلو</td>\n",
              "    </tr>\n",
              "    <tr>\n",
              "      <th>12</th>\n",
              "      <td>12</td>\n",
              "      <td>1176198561941413888</td>\n",
              "      <td>4</td>\n",
              "      <td>يسعد مساك سيد الحرف الحزين</td>\n",
              "    </tr>\n",
              "    <tr>\n",
              "      <th>13</th>\n",
              "      <td>13</td>\n",
              "      <td>1176199622412427264</td>\n",
              "      <td>4</td>\n",
              "      <td>ه عدوله گلبه ورم عدنه گلك خل اتونس همه بكل شيء...</td>\n",
              "    </tr>\n",
              "    <tr>\n",
              "      <th>14</th>\n",
              "      <td>14</td>\n",
              "      <td>1176460355939328000</td>\n",
              "      <td>4</td>\n",
              "      <td>يسلملي مرورك روعات تواصلك</td>\n",
              "    </tr>\n",
              "  </tbody>\n",
              "</table>\n",
              "</div>\n",
              "      <button class=\"colab-df-convert\" onclick=\"convertToInteractive('df-82b6899e-0b0d-4124-a818-98d706d5946c')\"\n",
              "              title=\"Convert this dataframe to an interactive table.\"\n",
              "              style=\"display:none;\">\n",
              "        \n",
              "  <svg xmlns=\"http://www.w3.org/2000/svg\" height=\"24px\"viewBox=\"0 0 24 24\"\n",
              "       width=\"24px\">\n",
              "    <path d=\"M0 0h24v24H0V0z\" fill=\"none\"/>\n",
              "    <path d=\"M18.56 5.44l.94 2.06.94-2.06 2.06-.94-2.06-.94-.94-2.06-.94 2.06-2.06.94zm-11 1L8.5 8.5l.94-2.06 2.06-.94-2.06-.94L8.5 2.5l-.94 2.06-2.06.94zm10 10l.94 2.06.94-2.06 2.06-.94-2.06-.94-.94-2.06-.94 2.06-2.06.94z\"/><path d=\"M17.41 7.96l-1.37-1.37c-.4-.4-.92-.59-1.43-.59-.52 0-1.04.2-1.43.59L10.3 9.45l-7.72 7.72c-.78.78-.78 2.05 0 2.83L4 21.41c.39.39.9.59 1.41.59.51 0 1.02-.2 1.41-.59l7.78-7.78 2.81-2.81c.8-.78.8-2.07 0-2.86zM5.41 20L4 18.59l7.72-7.72 1.47 1.35L5.41 20z\"/>\n",
              "  </svg>\n",
              "      </button>\n",
              "      \n",
              "  <style>\n",
              "    .colab-df-container {\n",
              "      display:flex;\n",
              "      flex-wrap:wrap;\n",
              "      gap: 12px;\n",
              "    }\n",
              "\n",
              "    .colab-df-convert {\n",
              "      background-color: #E8F0FE;\n",
              "      border: none;\n",
              "      border-radius: 50%;\n",
              "      cursor: pointer;\n",
              "      display: none;\n",
              "      fill: #1967D2;\n",
              "      height: 32px;\n",
              "      padding: 0 0 0 0;\n",
              "      width: 32px;\n",
              "    }\n",
              "\n",
              "    .colab-df-convert:hover {\n",
              "      background-color: #E2EBFA;\n",
              "      box-shadow: 0px 1px 2px rgba(60, 64, 67, 0.3), 0px 1px 3px 1px rgba(60, 64, 67, 0.15);\n",
              "      fill: #174EA6;\n",
              "    }\n",
              "\n",
              "    [theme=dark] .colab-df-convert {\n",
              "      background-color: #3B4455;\n",
              "      fill: #D2E3FC;\n",
              "    }\n",
              "\n",
              "    [theme=dark] .colab-df-convert:hover {\n",
              "      background-color: #434B5C;\n",
              "      box-shadow: 0px 1px 3px 1px rgba(0, 0, 0, 0.15);\n",
              "      filter: drop-shadow(0px 1px 2px rgba(0, 0, 0, 0.3));\n",
              "      fill: #FFFFFF;\n",
              "    }\n",
              "  </style>\n",
              "\n",
              "      <script>\n",
              "        const buttonEl =\n",
              "          document.querySelector('#df-82b6899e-0b0d-4124-a818-98d706d5946c button.colab-df-convert');\n",
              "        buttonEl.style.display =\n",
              "          google.colab.kernel.accessAllowed ? 'block' : 'none';\n",
              "\n",
              "        async function convertToInteractive(key) {\n",
              "          const element = document.querySelector('#df-82b6899e-0b0d-4124-a818-98d706d5946c');\n",
              "          const dataTable =\n",
              "            await google.colab.kernel.invokeFunction('convertToInteractive',\n",
              "                                                     [key], {});\n",
              "          if (!dataTable) return;\n",
              "\n",
              "          const docLinkHtml = 'Like what you see? Visit the ' +\n",
              "            '<a target=\"_blank\" href=https://colab.research.google.com/notebooks/data_table.ipynb>data table notebook</a>'\n",
              "            + ' to learn more about interactive tables.';\n",
              "          element.innerHTML = '';\n",
              "          dataTable['output_type'] = 'display_data';\n",
              "          await google.colab.output.renderOutput(dataTable, element);\n",
              "          const docLink = document.createElement('div');\n",
              "          docLink.innerHTML = docLinkHtml;\n",
              "          element.appendChild(docLink);\n",
              "        }\n",
              "      </script>\n",
              "    </div>\n",
              "  </div>\n",
              "  "
            ],
            "text/plain": [
              "    Unnamed: 0                   id  dialect  \\\n",
              "0            0  1175358310087892992        4   \n",
              "1            1  1175416117793349632        4   \n",
              "2            2  1175450108898565888        4   \n",
              "3            3  1175471073770573824        4   \n",
              "4            4  1175496913145217024        4   \n",
              "5            5  1175668034146643968        4   \n",
              "6            6  1175670153884983296        4   \n",
              "7            7  1175671762580856832        4   \n",
              "8            8  1175715664398561280        4   \n",
              "9            9  1176019816072777728        4   \n",
              "10          10  1176068581487992832        4   \n",
              "11          11  1176068868747538432        4   \n",
              "12          12  1176198561941413888        4   \n",
              "13          13  1176199622412427264        4   \n",
              "14          14  1176460355939328000        4   \n",
              "\n",
              "                                               tweets  \n",
              "0                                 بالنهايه ينتفض يغير  \n",
              "1   يعني محسوب البشر حيونه وحشيه وتطلبون الغرب يحت...  \n",
              "2                                    مبين كلامه خليجي  \n",
              "3                           يسلملي مرورك وروحك الحلوه  \n",
              "4                                  وين الغيبه اخ محمد  \n",
              "5   ياخي الارهابي اذا عراقي سعودي فلسطيني وين المش...  \n",
              "6                  مطلبي يقدم استقالته وفوگاها اعتذار  \n",
              "7   خلص واله لعيونكم انا ماعندي شيء معه بالعكس متا...  \n",
              "8   يمكن سءال فات الكثير الي يصور شنو موقفه وكانه ...  \n",
              "9   اولا اني ردت رجل جنوبي والي ذكر حجابها ثانيا ا...  \n",
              "10  واله الموضوع جدا حساس ويحير اتفق معك انت لاترو...  \n",
              "11    ان شاء اله اخوه يجمعنه العراق الي بكل جحيمه حلو  \n",
              "12                         يسعد مساك سيد الحرف الحزين  \n",
              "13  ه عدوله گلبه ورم عدنه گلك خل اتونس همه بكل شيء...  \n",
              "14                          يسلملي مرورك روعات تواصلك  "
            ]
          },
          "metadata": {},
          "execution_count": 32
        }
      ]
    },
    {
      "cell_type": "code",
      "source": [
        "#save after preprocessing the tweets\n",
        "df.to_csv('preprocessed_tweets.csv')  "
      ],
      "metadata": {
        "id": "pSCUqk_L5XnH"
      },
      "execution_count": 33,
      "outputs": []
    },
    {
      "cell_type": "code",
      "source": [
        "#copy the csv file to google drive\n",
        "!cp preprocessed_tweets.csv /content/drive/MyDrive/"
      ],
      "metadata": {
        "id": "o5XUqFB87E3-"
      },
      "execution_count": 34,
      "outputs": []
    },
    {
      "cell_type": "code",
      "source": [
        "df = pd.read_csv(\"preprocessed_tweets.csv\")"
      ],
      "metadata": {
        "id": "rMP1RPKBDpjJ"
      },
      "execution_count": 35,
      "outputs": []
    },
    {
      "cell_type": "code",
      "source": [
        "df.head(15)"
      ],
      "metadata": {
        "colab": {
          "base_uri": "https://localhost:8080/",
          "height": 520
        },
        "id": "raFIpYgmDrF0",
        "outputId": "396520ab-6b73-4058-d2cb-a06df57a3288"
      },
      "execution_count": 36,
      "outputs": [
        {
          "output_type": "execute_result",
          "data": {
            "text/html": [
              "\n",
              "  <div id=\"df-cdc56e97-69d6-438a-bf38-04d9a19cd6de\">\n",
              "    <div class=\"colab-df-container\">\n",
              "      <div>\n",
              "<style scoped>\n",
              "    .dataframe tbody tr th:only-of-type {\n",
              "        vertical-align: middle;\n",
              "    }\n",
              "\n",
              "    .dataframe tbody tr th {\n",
              "        vertical-align: top;\n",
              "    }\n",
              "\n",
              "    .dataframe thead th {\n",
              "        text-align: right;\n",
              "    }\n",
              "</style>\n",
              "<table border=\"1\" class=\"dataframe\">\n",
              "  <thead>\n",
              "    <tr style=\"text-align: right;\">\n",
              "      <th></th>\n",
              "      <th>Unnamed: 0</th>\n",
              "      <th>Unnamed: 0.1</th>\n",
              "      <th>id</th>\n",
              "      <th>dialect</th>\n",
              "      <th>tweets</th>\n",
              "    </tr>\n",
              "  </thead>\n",
              "  <tbody>\n",
              "    <tr>\n",
              "      <th>0</th>\n",
              "      <td>0</td>\n",
              "      <td>0</td>\n",
              "      <td>1175358310087892992</td>\n",
              "      <td>4</td>\n",
              "      <td>بالنهايه ينتفض يغير</td>\n",
              "    </tr>\n",
              "    <tr>\n",
              "      <th>1</th>\n",
              "      <td>1</td>\n",
              "      <td>1</td>\n",
              "      <td>1175416117793349632</td>\n",
              "      <td>4</td>\n",
              "      <td>يعني محسوب البشر حيونه وحشيه وتطلبون الغرب يحت...</td>\n",
              "    </tr>\n",
              "    <tr>\n",
              "      <th>2</th>\n",
              "      <td>2</td>\n",
              "      <td>2</td>\n",
              "      <td>1175450108898565888</td>\n",
              "      <td>4</td>\n",
              "      <td>مبين كلامه خليجي</td>\n",
              "    </tr>\n",
              "    <tr>\n",
              "      <th>3</th>\n",
              "      <td>3</td>\n",
              "      <td>3</td>\n",
              "      <td>1175471073770573824</td>\n",
              "      <td>4</td>\n",
              "      <td>يسلملي مرورك وروحك الحلوه</td>\n",
              "    </tr>\n",
              "    <tr>\n",
              "      <th>4</th>\n",
              "      <td>4</td>\n",
              "      <td>4</td>\n",
              "      <td>1175496913145217024</td>\n",
              "      <td>4</td>\n",
              "      <td>وين الغيبه اخ محمد</td>\n",
              "    </tr>\n",
              "    <tr>\n",
              "      <th>5</th>\n",
              "      <td>5</td>\n",
              "      <td>5</td>\n",
              "      <td>1175668034146643968</td>\n",
              "      <td>4</td>\n",
              "      <td>ياخي الارهابي اذا عراقي سعودي فلسطيني وين المش...</td>\n",
              "    </tr>\n",
              "    <tr>\n",
              "      <th>6</th>\n",
              "      <td>6</td>\n",
              "      <td>6</td>\n",
              "      <td>1175670153884983296</td>\n",
              "      <td>4</td>\n",
              "      <td>مطلبي يقدم استقالته وفوگاها اعتذار</td>\n",
              "    </tr>\n",
              "    <tr>\n",
              "      <th>7</th>\n",
              "      <td>7</td>\n",
              "      <td>7</td>\n",
              "      <td>1175671762580856832</td>\n",
              "      <td>4</td>\n",
              "      <td>خلص واله لعيونكم انا ماعندي شيء معه بالعكس متا...</td>\n",
              "    </tr>\n",
              "    <tr>\n",
              "      <th>8</th>\n",
              "      <td>8</td>\n",
              "      <td>8</td>\n",
              "      <td>1175715664398561280</td>\n",
              "      <td>4</td>\n",
              "      <td>يمكن سءال فات الكثير الي يصور شنو موقفه وكانه ...</td>\n",
              "    </tr>\n",
              "    <tr>\n",
              "      <th>9</th>\n",
              "      <td>9</td>\n",
              "      <td>9</td>\n",
              "      <td>1176019816072777728</td>\n",
              "      <td>4</td>\n",
              "      <td>اولا اني ردت رجل جنوبي والي ذكر حجابها ثانيا ا...</td>\n",
              "    </tr>\n",
              "    <tr>\n",
              "      <th>10</th>\n",
              "      <td>10</td>\n",
              "      <td>10</td>\n",
              "      <td>1176068581487992832</td>\n",
              "      <td>4</td>\n",
              "      <td>واله الموضوع جدا حساس ويحير اتفق معك انت لاترو...</td>\n",
              "    </tr>\n",
              "    <tr>\n",
              "      <th>11</th>\n",
              "      <td>11</td>\n",
              "      <td>11</td>\n",
              "      <td>1176068868747538432</td>\n",
              "      <td>4</td>\n",
              "      <td>ان شاء اله اخوه يجمعنه العراق الي بكل جحيمه حلو</td>\n",
              "    </tr>\n",
              "    <tr>\n",
              "      <th>12</th>\n",
              "      <td>12</td>\n",
              "      <td>12</td>\n",
              "      <td>1176198561941413888</td>\n",
              "      <td>4</td>\n",
              "      <td>يسعد مساك سيد الحرف الحزين</td>\n",
              "    </tr>\n",
              "    <tr>\n",
              "      <th>13</th>\n",
              "      <td>13</td>\n",
              "      <td>13</td>\n",
              "      <td>1176199622412427264</td>\n",
              "      <td>4</td>\n",
              "      <td>ه عدوله گلبه ورم عدنه گلك خل اتونس همه بكل شيء...</td>\n",
              "    </tr>\n",
              "    <tr>\n",
              "      <th>14</th>\n",
              "      <td>14</td>\n",
              "      <td>14</td>\n",
              "      <td>1176460355939328000</td>\n",
              "      <td>4</td>\n",
              "      <td>يسلملي مرورك روعات تواصلك</td>\n",
              "    </tr>\n",
              "  </tbody>\n",
              "</table>\n",
              "</div>\n",
              "      <button class=\"colab-df-convert\" onclick=\"convertToInteractive('df-cdc56e97-69d6-438a-bf38-04d9a19cd6de')\"\n",
              "              title=\"Convert this dataframe to an interactive table.\"\n",
              "              style=\"display:none;\">\n",
              "        \n",
              "  <svg xmlns=\"http://www.w3.org/2000/svg\" height=\"24px\"viewBox=\"0 0 24 24\"\n",
              "       width=\"24px\">\n",
              "    <path d=\"M0 0h24v24H0V0z\" fill=\"none\"/>\n",
              "    <path d=\"M18.56 5.44l.94 2.06.94-2.06 2.06-.94-2.06-.94-.94-2.06-.94 2.06-2.06.94zm-11 1L8.5 8.5l.94-2.06 2.06-.94-2.06-.94L8.5 2.5l-.94 2.06-2.06.94zm10 10l.94 2.06.94-2.06 2.06-.94-2.06-.94-.94-2.06-.94 2.06-2.06.94z\"/><path d=\"M17.41 7.96l-1.37-1.37c-.4-.4-.92-.59-1.43-.59-.52 0-1.04.2-1.43.59L10.3 9.45l-7.72 7.72c-.78.78-.78 2.05 0 2.83L4 21.41c.39.39.9.59 1.41.59.51 0 1.02-.2 1.41-.59l7.78-7.78 2.81-2.81c.8-.78.8-2.07 0-2.86zM5.41 20L4 18.59l7.72-7.72 1.47 1.35L5.41 20z\"/>\n",
              "  </svg>\n",
              "      </button>\n",
              "      \n",
              "  <style>\n",
              "    .colab-df-container {\n",
              "      display:flex;\n",
              "      flex-wrap:wrap;\n",
              "      gap: 12px;\n",
              "    }\n",
              "\n",
              "    .colab-df-convert {\n",
              "      background-color: #E8F0FE;\n",
              "      border: none;\n",
              "      border-radius: 50%;\n",
              "      cursor: pointer;\n",
              "      display: none;\n",
              "      fill: #1967D2;\n",
              "      height: 32px;\n",
              "      padding: 0 0 0 0;\n",
              "      width: 32px;\n",
              "    }\n",
              "\n",
              "    .colab-df-convert:hover {\n",
              "      background-color: #E2EBFA;\n",
              "      box-shadow: 0px 1px 2px rgba(60, 64, 67, 0.3), 0px 1px 3px 1px rgba(60, 64, 67, 0.15);\n",
              "      fill: #174EA6;\n",
              "    }\n",
              "\n",
              "    [theme=dark] .colab-df-convert {\n",
              "      background-color: #3B4455;\n",
              "      fill: #D2E3FC;\n",
              "    }\n",
              "\n",
              "    [theme=dark] .colab-df-convert:hover {\n",
              "      background-color: #434B5C;\n",
              "      box-shadow: 0px 1px 3px 1px rgba(0, 0, 0, 0.15);\n",
              "      filter: drop-shadow(0px 1px 2px rgba(0, 0, 0, 0.3));\n",
              "      fill: #FFFFFF;\n",
              "    }\n",
              "  </style>\n",
              "\n",
              "      <script>\n",
              "        const buttonEl =\n",
              "          document.querySelector('#df-cdc56e97-69d6-438a-bf38-04d9a19cd6de button.colab-df-convert');\n",
              "        buttonEl.style.display =\n",
              "          google.colab.kernel.accessAllowed ? 'block' : 'none';\n",
              "\n",
              "        async function convertToInteractive(key) {\n",
              "          const element = document.querySelector('#df-cdc56e97-69d6-438a-bf38-04d9a19cd6de');\n",
              "          const dataTable =\n",
              "            await google.colab.kernel.invokeFunction('convertToInteractive',\n",
              "                                                     [key], {});\n",
              "          if (!dataTable) return;\n",
              "\n",
              "          const docLinkHtml = 'Like what you see? Visit the ' +\n",
              "            '<a target=\"_blank\" href=https://colab.research.google.com/notebooks/data_table.ipynb>data table notebook</a>'\n",
              "            + ' to learn more about interactive tables.';\n",
              "          element.innerHTML = '';\n",
              "          dataTable['output_type'] = 'display_data';\n",
              "          await google.colab.output.renderOutput(dataTable, element);\n",
              "          const docLink = document.createElement('div');\n",
              "          docLink.innerHTML = docLinkHtml;\n",
              "          element.appendChild(docLink);\n",
              "        }\n",
              "      </script>\n",
              "    </div>\n",
              "  </div>\n",
              "  "
            ],
            "text/plain": [
              "    Unnamed: 0  Unnamed: 0.1                   id  dialect  \\\n",
              "0            0             0  1175358310087892992        4   \n",
              "1            1             1  1175416117793349632        4   \n",
              "2            2             2  1175450108898565888        4   \n",
              "3            3             3  1175471073770573824        4   \n",
              "4            4             4  1175496913145217024        4   \n",
              "5            5             5  1175668034146643968        4   \n",
              "6            6             6  1175670153884983296        4   \n",
              "7            7             7  1175671762580856832        4   \n",
              "8            8             8  1175715664398561280        4   \n",
              "9            9             9  1176019816072777728        4   \n",
              "10          10            10  1176068581487992832        4   \n",
              "11          11            11  1176068868747538432        4   \n",
              "12          12            12  1176198561941413888        4   \n",
              "13          13            13  1176199622412427264        4   \n",
              "14          14            14  1176460355939328000        4   \n",
              "\n",
              "                                               tweets  \n",
              "0                                 بالنهايه ينتفض يغير  \n",
              "1   يعني محسوب البشر حيونه وحشيه وتطلبون الغرب يحت...  \n",
              "2                                    مبين كلامه خليجي  \n",
              "3                           يسلملي مرورك وروحك الحلوه  \n",
              "4                                  وين الغيبه اخ محمد  \n",
              "5   ياخي الارهابي اذا عراقي سعودي فلسطيني وين المش...  \n",
              "6                  مطلبي يقدم استقالته وفوگاها اعتذار  \n",
              "7   خلص واله لعيونكم انا ماعندي شيء معه بالعكس متا...  \n",
              "8   يمكن سءال فات الكثير الي يصور شنو موقفه وكانه ...  \n",
              "9   اولا اني ردت رجل جنوبي والي ذكر حجابها ثانيا ا...  \n",
              "10  واله الموضوع جدا حساس ويحير اتفق معك انت لاترو...  \n",
              "11    ان شاء اله اخوه يجمعنه العراق الي بكل جحيمه حلو  \n",
              "12                         يسعد مساك سيد الحرف الحزين  \n",
              "13  ه عدوله گلبه ورم عدنه گلك خل اتونس همه بكل شيء...  \n",
              "14                          يسلملي مرورك روعات تواصلك  "
            ]
          },
          "metadata": {},
          "execution_count": 36
        }
      ]
    },
    {
      "cell_type": "code",
      "source": [
        "df.info()"
      ],
      "metadata": {
        "colab": {
          "base_uri": "https://localhost:8080/"
        },
        "id": "3OjnjbZ4DsiQ",
        "outputId": "594a15e5-ecc5-42a2-ceeb-288af0265118"
      },
      "execution_count": 37,
      "outputs": [
        {
          "output_type": "stream",
          "name": "stdout",
          "text": [
            "<class 'pandas.core.frame.DataFrame'>\n",
            "RangeIndex: 458197 entries, 0 to 458196\n",
            "Data columns (total 5 columns):\n",
            " #   Column        Non-Null Count   Dtype \n",
            "---  ------        --------------   ----- \n",
            " 0   Unnamed: 0    458197 non-null  int64 \n",
            " 1   Unnamed: 0.1  458197 non-null  int64 \n",
            " 2   id            458197 non-null  int64 \n",
            " 3   dialect       458197 non-null  int64 \n",
            " 4   tweets        457992 non-null  object\n",
            "dtypes: int64(4), object(1)\n",
            "memory usage: 17.5+ MB\n"
          ]
        }
      ]
    }
  ]
}