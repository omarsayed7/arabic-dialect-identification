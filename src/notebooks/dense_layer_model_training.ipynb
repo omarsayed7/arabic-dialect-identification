{
  "cells": [
    {
      "cell_type": "code",
      "execution_count": 1,
      "metadata": {
        "id": "8VzKXUln_YzL"
      },
      "outputs": [],
      "source": [
        "import pandas as pd \n",
        "import numpy as np\n",
        "from sklearn.model_selection import train_test_split, GridSearchCV\n",
        "from sklearn.feature_extraction.text import TfidfVectorizer\n",
        "from keras import models\n",
        "from keras import layers\n",
        "from keras import callbacks\n",
        "from keras.preprocessing.text import Tokenizer  \n",
        "import matplotlib.pyplot as plt\n",
        "from nltk import word_tokenize, sent_tokenize\n",
        "import pickle"
      ]
    },
    {
      "cell_type": "code",
      "execution_count": 2,
      "metadata": {
        "colab": {
          "base_uri": "https://localhost:8080/"
        },
        "id": "yUZgCHjz_Z-J",
        "outputId": "2dd9a3d5-b504-45ab-b032-376a2a69d6e0"
      },
      "outputs": [
        {
          "output_type": "stream",
          "name": "stdout",
          "text": [
            "Mounted at /content/drive/\n"
          ]
        }
      ],
      "source": [
        "#For google colab we mount google drive \n",
        "from google.colab import drive \n",
        "drive.mount(\"/content/drive/\")"
      ]
    },
    {
      "cell_type": "code",
      "execution_count": 3,
      "metadata": {
        "id": "Kxu54fc1_cw1"
      },
      "outputs": [],
      "source": [
        "tweets_data_path = \"/content/drive/MyDrive/preprocessed_tweets.csv\""
      ]
    },
    {
      "cell_type": "code",
      "execution_count": 4,
      "metadata": {
        "id": "8HHtVq5X_nGx"
      },
      "outputs": [],
      "source": [
        "df = pd.read_csv(tweets_data_path)"
      ]
    },
    {
      "cell_type": "code",
      "execution_count": 5,
      "metadata": {
        "colab": {
          "base_uri": "https://localhost:8080/"
        },
        "id": "OK3M29yY_okX",
        "outputId": "ad2bfe11-cdc7-4210-ec11-a30838adbd81"
      },
      "outputs": [
        {
          "output_type": "stream",
          "name": "stdout",
          "text": [
            "<class 'pandas.core.frame.DataFrame'>\n",
            "RangeIndex: 458197 entries, 0 to 458196\n",
            "Data columns (total 5 columns):\n",
            " #   Column        Non-Null Count   Dtype \n",
            "---  ------        --------------   ----- \n",
            " 0   Unnamed: 0    458197 non-null  int64 \n",
            " 1   Unnamed: 0.1  458197 non-null  int64 \n",
            " 2   id            458197 non-null  int64 \n",
            " 3   dialect       458197 non-null  int64 \n",
            " 4   tweets        457992 non-null  object\n",
            "dtypes: int64(4), object(1)\n",
            "memory usage: 17.5+ MB\n"
          ]
        }
      ],
      "source": [
        "df.info()"
      ]
    },
    {
      "cell_type": "code",
      "execution_count": 6,
      "metadata": {
        "id": "khcTCkt8_uWD"
      },
      "outputs": [],
      "source": [
        "features = df.tweets.values.astype(str)\n",
        "lables = pd.get_dummies(df['dialect']).values #One-hot encoding the lables"
      ]
    },
    {
      "cell_type": "code",
      "execution_count": 11,
      "metadata": {
        "id": "F1fT95kSI__D",
        "colab": {
          "base_uri": "https://localhost:8080/"
        },
        "outputId": "43178545-e387-4adc-8e51-a6c739151ac6"
      },
      "outputs": [
        {
          "output_type": "stream",
          "name": "stdout",
          "text": [
            "[nltk_data] Downloading package punkt to /root/nltk_data...\n",
            "[nltk_data]   Unzipping tokenizers/punkt.zip.\n"
          ]
        },
        {
          "output_type": "stream",
          "name": "stderr",
          "text": [
            "/usr/local/lib/python3.7/dist-packages/sklearn/feature_extraction/text.py:517: UserWarning: The parameter 'token_pattern' will not be used since 'tokenizer' is not None'\n",
            "  \"The parameter 'token_pattern' will not be used\"\n"
          ]
        },
        {
          "output_type": "execute_result",
          "data": {
            "text/plain": [
              "TfidfVectorizer(max_features=1500,\n",
              "                tokenizer=<function word_tokenize at 0x7f1550719560>)"
            ]
          },
          "metadata": {},
          "execution_count": 11
        }
      ],
      "source": [
        "# Fit the tokenizer\n",
        "# Either pre-define vocab size\n",
        "# Or get the max possible vocab from text\n",
        "import nltk\n",
        "nltk.download('punkt')\n",
        "vocab_sz = 1500 # None means all\n",
        "vectorizer = TfidfVectorizer(max_features = vocab_sz, tokenizer=word_tokenize, analyzer='word')\n",
        "vectorizer.fit(features)"
      ]
    },
    {
      "cell_type": "code",
      "execution_count": 12,
      "metadata": {
        "id": "di4lBwoUJJl3",
        "colab": {
          "base_uri": "https://localhost:8080/"
        },
        "outputId": "cf1aaebd-6b2d-4aff-9767-8d9aa22da19c"
      },
      "outputs": [
        {
          "output_type": "execute_result",
          "data": {
            "text/plain": [
              "1500"
            ]
          },
          "metadata": {},
          "execution_count": 12
        }
      ],
      "source": [
        "len(vectorizer.vocabulary_)"
      ]
    },
    {
      "cell_type": "code",
      "execution_count": 13,
      "metadata": {
        "id": "iS4N03LZ_yb9"
      },
      "outputs": [],
      "source": [
        "X_train, X_test, y_train, y_test = train_test_split(features, lables, random_state=42, test_size=0.1, shuffle=True)"
      ]
    },
    {
      "cell_type": "code",
      "execution_count": 14,
      "metadata": {
        "id": "lHRkNAe4BC5Q"
      },
      "outputs": [],
      "source": [
        "X_train, X_val, y_train, y_val = train_test_split(X_train, y_train, random_state=42, test_size=0.1, shuffle=True)"
      ]
    },
    {
      "cell_type": "code",
      "execution_count": 15,
      "metadata": {
        "colab": {
          "base_uri": "https://localhost:8080/"
        },
        "id": "bSJaN-4LCmab",
        "outputId": "3b4d738c-5007-4dbb-af23-6b6073c957e9"
      },
      "outputs": [
        {
          "output_type": "execute_result",
          "data": {
            "text/plain": [
              "((371139, 18), (41238, 18), (45820, 18))"
            ]
          },
          "metadata": {},
          "execution_count": 15
        }
      ],
      "source": [
        "y_train.shape, y_val.shape, y_test.shape"
      ]
    },
    {
      "cell_type": "code",
      "execution_count": 16,
      "metadata": {
        "colab": {
          "base_uri": "https://localhost:8080/"
        },
        "id": "nRqYDvbDCuqX",
        "outputId": "60f3b7fe-ae50-49df-ff78-7ceff3d9e877"
      },
      "outputs": [
        {
          "output_type": "execute_result",
          "data": {
            "text/plain": [
              "((371139,), (41238,), (45820,))"
            ]
          },
          "metadata": {},
          "execution_count": 16
        }
      ],
      "source": [
        "X_train.shape, X_val.shape, X_test.shape"
      ]
    },
    {
      "cell_type": "code",
      "source": [
        "# loading tokenizer\n",
        "with open('tokenizer.pickle', 'rb') as handle:\n",
        "    vectorizer = pickle.load(handle)\n",
        "vocab_sz = 1500"
      ],
      "metadata": {
        "id": "oC3vIHgoHhyn"
      },
      "execution_count": null,
      "outputs": []
    },
    {
      "cell_type": "code",
      "execution_count": 17,
      "metadata": {
        "id": "l5AXdHS3_2FP"
      },
      "outputs": [],
      "source": [
        "# Extract binary BoW features\n",
        "x_train = vectorizer.transform(X_train).toarray()"
      ]
    },
    {
      "cell_type": "code",
      "execution_count": 18,
      "metadata": {
        "id": "iy1JyI7EJvit"
      },
      "outputs": [],
      "source": [
        "x_val = vectorizer.transform(X_val).toarray()"
      ]
    },
    {
      "cell_type": "code",
      "execution_count": 19,
      "metadata": {
        "id": "ObLYCRWcJwnY"
      },
      "outputs": [],
      "source": [
        "x_test = vectorizer.transform(X_test).toarray()"
      ]
    },
    {
      "cell_type": "code",
      "execution_count": 20,
      "metadata": {
        "colab": {
          "base_uri": "https://localhost:8080/",
          "height": 35
        },
        "id": "Gcs_yNG3HDAF",
        "outputId": "a7ffea79-ec45-4944-d243-9fdadaebe382"
      },
      "outputs": [
        {
          "output_type": "execute_result",
          "data": {
            "application/vnd.google.colaboratory.intrinsic+json": {
              "type": "string"
            },
            "text/plain": [
              "'محتاج تغير مش محتاج دافع او كفيل يغيرك انت محتاج انك تغير فكره انك عمرك هتغير الموضوع سهل جدا محتاج لفكره فكرهتغيرسلبياتك'"
            ]
          },
          "metadata": {},
          "execution_count": 20
        }
      ],
      "source": [
        "X_train[1]"
      ]
    },
    {
      "cell_type": "code",
      "execution_count": 21,
      "metadata": {
        "id": "oqkKdSL5HH34",
        "colab": {
          "base_uri": "https://localhost:8080/"
        },
        "outputId": "eb561e69-3ea8-4a2c-dc64-1c5ad2afc079"
      },
      "outputs": [
        {
          "output_type": "execute_result",
          "data": {
            "text/plain": [
              "array([0., 0., 0., ..., 0., 0., 0.])"
            ]
          },
          "metadata": {},
          "execution_count": 21
        }
      ],
      "source": [
        "x_train[1]"
      ]
    },
    {
      "cell_type": "code",
      "execution_count": 22,
      "metadata": {
        "id": "W16aLPy2IJZX"
      },
      "outputs": [],
      "source": [
        "model = models.Sequential()\n",
        "model.add(layers.Dense(128, activation='relu', input_shape=(vocab_sz,)))\n",
        "model.add(layers.Dropout(0.6))\n",
        "model.add(layers.Dense(64, activation='relu'))\n",
        "model.add(layers.Dropout(0.6))\n",
        "model.add(layers.Dense(32, activation='relu'))\n",
        "model.add(layers.Dropout(0.6))\n",
        "model.add(layers.Dense(18, activation='softmax'))"
      ]
    },
    {
      "cell_type": "code",
      "execution_count": 23,
      "metadata": {
        "id": "YlDzVmkiAFHo"
      },
      "outputs": [],
      "source": [
        "model.compile(optimizer='rmsprop',\n",
        "              loss='categorical_crossentropy',\n",
        "              metrics=['accuracy'])"
      ]
    },
    {
      "cell_type": "code",
      "source": [
        "callback = callbacks.EarlyStopping(monitor='loss', patience=3)"
      ],
      "metadata": {
        "id": "1IvZsBaXFaU1"
      },
      "execution_count": 24,
      "outputs": []
    },
    {
      "cell_type": "code",
      "execution_count": 25,
      "metadata": {
        "id": "3PCR_0JgAuO1",
        "colab": {
          "base_uri": "https://localhost:8080/"
        },
        "outputId": "3b500f49-5064-4cb2-bfc6-924032c9bcb5"
      },
      "outputs": [
        {
          "output_type": "stream",
          "name": "stdout",
          "text": [
            "Epoch 1/100\n",
            "725/725 [==============================] - 14s 18ms/step - loss: 2.6155 - accuracy: 0.1837 - val_loss: 2.3583 - val_accuracy: 0.2530\n",
            "Epoch 2/100\n",
            "725/725 [==============================] - 13s 17ms/step - loss: 2.4072 - accuracy: 0.2428 - val_loss: 2.2818 - val_accuracy: 0.2740\n",
            "Epoch 3/100\n",
            "725/725 [==============================] - 13s 18ms/step - loss: 2.3570 - accuracy: 0.2577 - val_loss: 2.2513 - val_accuracy: 0.2792\n",
            "Epoch 4/100\n",
            "725/725 [==============================] - 13s 17ms/step - loss: 2.3318 - accuracy: 0.2651 - val_loss: 2.2241 - val_accuracy: 0.2875\n",
            "Epoch 5/100\n",
            "725/725 [==============================] - 13s 17ms/step - loss: 2.3114 - accuracy: 0.2723 - val_loss: 2.2022 - val_accuracy: 0.3003\n",
            "Epoch 6/100\n",
            "725/725 [==============================] - 13s 18ms/step - loss: 2.2978 - accuracy: 0.2785 - val_loss: 2.1889 - val_accuracy: 0.3045\n",
            "Epoch 7/100\n",
            "725/725 [==============================] - 13s 18ms/step - loss: 2.2862 - accuracy: 0.2818 - val_loss: 2.1792 - val_accuracy: 0.3065\n",
            "Epoch 8/100\n",
            "725/725 [==============================] - 13s 18ms/step - loss: 2.2769 - accuracy: 0.2848 - val_loss: 2.1767 - val_accuracy: 0.3074\n",
            "Epoch 9/100\n",
            "725/725 [==============================] - 13s 18ms/step - loss: 2.2728 - accuracy: 0.2864 - val_loss: 2.1725 - val_accuracy: 0.3100\n",
            "Epoch 10/100\n",
            "725/725 [==============================] - 13s 17ms/step - loss: 2.2686 - accuracy: 0.2868 - val_loss: 2.1674 - val_accuracy: 0.3112\n",
            "Epoch 11/100\n",
            "725/725 [==============================] - 14s 19ms/step - loss: 2.2672 - accuracy: 0.2885 - val_loss: 2.1679 - val_accuracy: 0.3123\n",
            "Epoch 12/100\n",
            "725/725 [==============================] - 13s 18ms/step - loss: 2.2626 - accuracy: 0.2890 - val_loss: 2.1665 - val_accuracy: 0.3119\n",
            "Epoch 13/100\n",
            "725/725 [==============================] - 13s 17ms/step - loss: 2.2603 - accuracy: 0.2903 - val_loss: 2.1630 - val_accuracy: 0.3135\n",
            "Epoch 14/100\n",
            "725/725 [==============================] - 13s 18ms/step - loss: 2.2596 - accuracy: 0.2911 - val_loss: 2.1632 - val_accuracy: 0.3133\n",
            "Epoch 15/100\n",
            "725/725 [==============================] - 13s 18ms/step - loss: 2.2556 - accuracy: 0.2915 - val_loss: 2.1599 - val_accuracy: 0.3150\n",
            "Epoch 16/100\n",
            "725/725 [==============================] - 13s 18ms/step - loss: 2.2564 - accuracy: 0.2920 - val_loss: 2.1593 - val_accuracy: 0.3157\n",
            "Epoch 17/100\n",
            "725/725 [==============================] - 13s 18ms/step - loss: 2.2562 - accuracy: 0.2924 - val_loss: 2.1605 - val_accuracy: 0.3150\n",
            "Epoch 18/100\n",
            "725/725 [==============================] - 13s 18ms/step - loss: 2.2546 - accuracy: 0.2920 - val_loss: 2.1598 - val_accuracy: 0.3152\n",
            "Epoch 19/100\n",
            "725/725 [==============================] - 13s 18ms/step - loss: 2.2548 - accuracy: 0.2925 - val_loss: 2.1591 - val_accuracy: 0.3171\n",
            "Epoch 20/100\n",
            "725/725 [==============================] - 13s 18ms/step - loss: 2.2534 - accuracy: 0.2930 - val_loss: 2.1588 - val_accuracy: 0.3164\n",
            "Epoch 21/100\n",
            "725/725 [==============================] - 13s 18ms/step - loss: 2.2509 - accuracy: 0.2928 - val_loss: 2.1567 - val_accuracy: 0.3164\n",
            "Epoch 22/100\n",
            "725/725 [==============================] - 13s 18ms/step - loss: 2.2528 - accuracy: 0.2931 - val_loss: 2.1567 - val_accuracy: 0.3163\n",
            "Epoch 23/100\n",
            "725/725 [==============================] - 13s 17ms/step - loss: 2.2520 - accuracy: 0.2929 - val_loss: 2.1577 - val_accuracy: 0.3153\n",
            "Epoch 24/100\n",
            "725/725 [==============================] - 13s 18ms/step - loss: 2.2531 - accuracy: 0.2923 - val_loss: 2.1570 - val_accuracy: 0.3173\n"
          ]
        }
      ],
      "source": [
        "history = model.fit(x_train,\n",
        "                    y_train,\n",
        "                    epochs=100,\n",
        "                    batch_size=512,\n",
        "                    validation_data=(x_val, y_val),\n",
        "                    callbacks=[callback])"
      ]
    },
    {
      "cell_type": "code",
      "execution_count": null,
      "metadata": {
        "id": "WE8y-2uPCb55",
        "colab": {
          "base_uri": "https://localhost:8080/",
          "height": 295
        },
        "outputId": "a2b2ce52-f77d-4715-88d5-d493bae3ef75"
      },
      "outputs": [
        {
          "output_type": "display_data",
          "data": {
            "image/png": "[encoded data removed]",
            "text/plain": [
              "<Figure size 432x288 with 1 Axes>"
            ]
          },
          "metadata": {
            "needs_background": "light"
          }
        }
      ],
      "source": [
        "loss = history.history['loss']\n",
        "val_loss = history.history['val_loss']\n",
        "\n",
        "epochs = range(1, len(loss) + 1)\n",
        "\n",
        "# \"bo\" is for \"blue dot\"\n",
        "plt.plot(epochs, loss, 'bo', label='Training loss (freq)')\n",
        "# b is for \"solid blue line\"\n",
        "plt.plot(epochs, val_loss, 'b', label='Validation loss (freq)')\n",
        "plt.title('Training and validation loss(freq)')\n",
        "plt.xlabel('Epochs')\n",
        "plt.ylabel('Loss')\n",
        "plt.legend()\n",
        "\n",
        "plt.show()"
      ]
    },
    {
      "cell_type": "code",
      "execution_count": null,
      "metadata": {
        "id": "iYOyuu8uJvGj",
        "colab": {
          "base_uri": "https://localhost:8080/",
          "height": 295
        },
        "outputId": "05cc5b34-9651-483c-8f5d-5517487302dc"
      },
      "outputs": [
        {
          "output_type": "display_data",
          "data": {
            "image/png": "[encoded data removed]",
            "text/plain": [
              "<Figure size 432x288 with 1 Axes>"
            ]
          },
          "metadata": {
            "needs_background": "light"
          }
        }
      ],
      "source": [
        "plt.clf()   # clear figure\n",
        "acc = history.history['accuracy']\n",
        "val_acc = history.history['val_accuracy']\n",
        "\n",
        "plt.plot(epochs, acc, 'bo', label='Training acc(freq)')\n",
        "plt.plot(epochs, val_acc, 'b', label='Validation acc(freq)')\n",
        "plt.title('Training and validation accuracy(freq)')\n",
        "plt.xlabel('Epochs')\n",
        "plt.ylabel('Accuracy')\n",
        "plt.legend()\n",
        "\n",
        "plt.show()"
      ]
    },
    {
      "cell_type": "markdown",
      "metadata": {
        "id": "lpuZ97gTuhlR"
      },
      "source": [
        "**Saving tokenizer and the model**"
      ]
    },
    {
      "cell_type": "code",
      "execution_count": 26,
      "metadata": {
        "id": "xt1l6NTKq1Aj"
      },
      "outputs": [],
      "source": [
        "import pickle\n",
        "\n",
        "# saving tokenizer\n",
        "with open('tokenizer.pickle', 'wb') as handle:\n",
        "    pickle.dump(vectorizer, handle, protocol=pickle.HIGHEST_PROTOCOL)\n",
        "\n",
        "# saving deep learning model\n",
        "model.save('dense_model.h5')"
      ]
    },
    {
      "cell_type": "code",
      "source": [
        "!cp dense_model.h5 /content/drive/MyDrive/"
      ],
      "metadata": {
        "id": "uX09ZsLxsUha"
      },
      "execution_count": 27,
      "outputs": []
    },
    {
      "cell_type": "code",
      "source": [
        "!cp tokenizer.pickle /content/drive/MyDrive/"
      ],
      "metadata": {
        "id": "mss0KcvOsZ2v"
      },
      "execution_count": 28,
      "outputs": []
    },
    {
      "cell_type": "markdown",
      "metadata": {
        "id": "ivNFl0LhuZyx"
      },
      "source": [
        "# Testing the model"
      ]
    },
    {
      "cell_type": "markdown",
      "source": [
        "**Evaluating the model on the test data**"
      ],
      "metadata": {
        "id": "e-oyJ516tGq5"
      }
    },
    {
      "cell_type": "code",
      "execution_count": 37,
      "metadata": {
        "id": "tHkMzAqCrEe0",
        "colab": {
          "base_uri": "https://localhost:8080/"
        },
        "outputId": "d9c50919-8a6a-4c48-a527-db44c39d74a5"
      },
      "outputs": [
        {
          "output_type": "stream",
          "name": "stdout",
          "text": [
            "1432/1432 [==============================] - 5s 3ms/step - loss: 2.1538 - accuracy: 0.3118\n"
          ]
        }
      ],
      "source": [
        "prediction_load = model.evaluate(x_test,y_test)"
      ]
    },
    {
      "cell_type": "markdown",
      "source": [
        "**Model inference**"
      ],
      "metadata": {
        "id": "Btj7fNL1tLyJ"
      }
    },
    {
      "cell_type": "code",
      "source": [
        "def dense_nn_inference(text):\n",
        "    '''\n",
        "    Individual testing of the model given a text.\n",
        "    '''\n",
        "    class_dict = {0:\"AE\",1:\"BH\",2:\"DZ\",3:\"EG\",4:\"IQ\",5:\"JO\",6:\"KW\",7:\"LB\",8:\"LY\",9:\"MA\",\n",
        "                  10:\"OM\",11:\"PL\",12:\"QA\",13:\"SA\",14:\"SD\",15:\"SY\",16:\"TN\",17:\"YE\"}\n",
        "    # loading tokenizer\n",
        "    with open('tokenizer.pickle', 'rb') as handle:\n",
        "        tokenizer = pickle.load(handle)\n",
        "    # loading dense model\n",
        "    loaded_model = models.load_model(\"dense_model.h5\")\n",
        "    tokenized_load = tokenizer.transform([text]).toarray()\n",
        "    prediction_load = loaded_model.predict(tokenized_load)\n",
        "    return class_dict[np.argmax(prediction_load)]\n",
        "        "
      ],
      "metadata": {
        "id": "1zQJdcn1vGIe"
      },
      "execution_count": 55,
      "outputs": []
    },
    {
      "cell_type": "code",
      "source": [
        "dense_nn_inference(\"اللي بتقولوه دا مش هينفع\")"
      ],
      "metadata": {
        "colab": {
          "base_uri": "https://localhost:8080/",
          "height": 72
        },
        "id": "FbD9V_fHvRDO",
        "outputId": "041ed546-3344-4b82-b565-8467d4ed2ddc"
      },
      "execution_count": 57,
      "outputs": [
        {
          "output_type": "stream",
          "name": "stdout",
          "text": [
            "WARNING:tensorflow:6 out of the last 6 calls to <function Model.make_predict_function.<locals>.predict_function at 0x7f153a534320> triggered tf.function retracing. Tracing is expensive and the excessive number of tracings could be due to (1) creating @tf.function repeatedly in a loop, (2) passing tensors with different shapes, (3) passing Python objects instead of tensors. For (1), please define your @tf.function outside of the loop. For (2), @tf.function has experimental_relax_shapes=True option that relaxes argument shapes that can avoid unnecessary retracing. For (3), please refer to https://www.tensorflow.org/guide/function#controlling_retracing and https://www.tensorflow.org/api_docs/python/tf/function for  more details.\n"
          ]
        },
        {
          "output_type": "execute_result",
          "data": {
            "application/vnd.google.colaboratory.intrinsic+json": {
              "type": "string"
            },
            "text/plain": [
              "'EG'"
            ]
          },
          "metadata": {},
          "execution_count": 57
        }
      ]
    },
    {
      "cell_type": "code",
      "source": [
        "dense_nn_inference(\"شلونك شو تسوي\")"
      ],
      "metadata": {
        "colab": {
          "base_uri": "https://localhost:8080/",
          "height": 72
        },
        "id": "QvCI-lUJvGro",
        "outputId": "8c9e3f3c-e53a-4365-b2a1-251633016f85"
      },
      "execution_count": 56,
      "outputs": [
        {
          "output_type": "stream",
          "name": "stdout",
          "text": [
            "WARNING:tensorflow:5 out of the last 5 calls to <function Model.make_predict_function.<locals>.predict_function at 0x7f153e1593b0> triggered tf.function retracing. Tracing is expensive and the excessive number of tracings could be due to (1) creating @tf.function repeatedly in a loop, (2) passing tensors with different shapes, (3) passing Python objects instead of tensors. For (1), please define your @tf.function outside of the loop. For (2), @tf.function has experimental_relax_shapes=True option that relaxes argument shapes that can avoid unnecessary retracing. For (3), please refer to https://www.tensorflow.org/guide/function#controlling_retracing and https://www.tensorflow.org/api_docs/python/tf/function for  more details.\n"
          ]
        },
        {
          "output_type": "execute_result",
          "data": {
            "application/vnd.google.colaboratory.intrinsic+json": {
              "type": "string"
            },
            "text/plain": [
              "'KW'"
            ]
          },
          "metadata": {},
          "execution_count": 56
        }
      ]
    }
  ],
  "metadata": {
    "colab": {
      "collapsed_sections": [],
      "name": "dense-layer-model-training.ipynb",
      "provenance": []
    },
    "kernelspec": {
      "display_name": "Python 3",
      "name": "python3"
    },
    "language_info": {
      "name": "python"
    }
  },
  "nbformat": 4,
  "nbformat_minor": 0
}