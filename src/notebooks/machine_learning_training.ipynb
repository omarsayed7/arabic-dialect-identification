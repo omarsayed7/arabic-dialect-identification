{
  "cells": [
    {
      "cell_type": "code",
      "execution_count": 12,
      "metadata": {
        "id": "p-pLuD4V44JL"
      },
      "outputs": [],
      "source": [
        "#imports \n",
        "import pandas as pd \n",
        "import numpy as np\n",
        "from sklearn.model_selection import train_test_split, GridSearchCV\n",
        "from sklearn.feature_extraction.text import TfidfVectorizer\n",
        "from sklearn.pipeline import Pipeline\n",
        "from sklearn.ensemble import RandomForestClassifier\n",
        "from sklearn.linear_model import SGDClassifier\n",
        "from sklearn.naive_bayes import MultinomialNB\n",
        "from sklearn.metrics import confusion_matrix,accuracy_score, classification_report"
      ]
    },
    {
      "cell_type": "code",
      "execution_count": 2,
      "metadata": {
        "colab": {
          "base_uri": "https://localhost:8080/"
        },
        "id": "ypcHgxsU5pTD",
        "outputId": "812d268f-fadd-45b4-9fc8-fd853c1d0e43"
      },
      "outputs": [
        {
          "output_type": "stream",
          "name": "stdout",
          "text": [
            "Mounted at /content/drive/\n"
          ]
        }
      ],
      "source": [
        "#For google colab we mount google drive \n",
        "from google.colab import drive \n",
        "drive.mount(\"/content/drive/\")"
      ]
    },
    {
      "cell_type": "markdown",
      "metadata": {
        "id": "8AEQHirV5UhM"
      },
      "source": [
        "# Reading the tweets file"
      ]
    },
    {
      "cell_type": "code",
      "execution_count": 3,
      "metadata": {
        "id": "ZtsAAZln51LM"
      },
      "outputs": [],
      "source": [
        "tweets_data_path = \"/content/drive/MyDrive/preprocessed_tweets.csv\""
      ]
    },
    {
      "cell_type": "code",
      "execution_count": 4,
      "metadata": {
        "id": "Tv2c-uwT5TWv"
      },
      "outputs": [],
      "source": [
        "df = pd.read_csv(tweets_data_path)"
      ]
    },
    {
      "cell_type": "code",
      "execution_count": 5,
      "metadata": {
        "colab": {
          "base_uri": "https://localhost:8080/"
        },
        "id": "eNJdtBlAWqdC",
        "outputId": "16b6c4fb-9194-4251-c813-75c9534e51f7"
      },
      "outputs": [
        {
          "output_type": "stream",
          "name": "stdout",
          "text": [
            "<class 'pandas.core.frame.DataFrame'>\n",
            "RangeIndex: 458197 entries, 0 to 458196\n",
            "Data columns (total 5 columns):\n",
            " #   Column        Non-Null Count   Dtype \n",
            "---  ------        --------------   ----- \n",
            " 0   Unnamed: 0    458197 non-null  int64 \n",
            " 1   Unnamed: 0.1  458197 non-null  int64 \n",
            " 2   id            458197 non-null  int64 \n",
            " 3   dialect       458197 non-null  int64 \n",
            " 4   tweets        457992 non-null  object\n",
            "dtypes: int64(4), object(1)\n",
            "memory usage: 17.5+ MB\n"
          ]
        }
      ],
      "source": [
        "df.info()"
      ]
    },
    {
      "cell_type": "code",
      "execution_count": 6,
      "metadata": {
        "colab": {
          "base_uri": "https://localhost:8080/",
          "height": 520
        },
        "id": "BGERCdVp-Cb1",
        "outputId": "013be45a-2def-414f-ce7f-f7c87cc4b0c9"
      },
      "outputs": [
        {
          "output_type": "execute_result",
          "data": {
            "text/html": [
              "\n",
              "  <div id=\"df-d16c0ece-7cb0-4dab-a129-272192fccd55\">\n",
              "    <div class=\"colab-df-container\">\n",
              "      <div>\n",
              "<style scoped>\n",
              "    .dataframe tbody tr th:only-of-type {\n",
              "        vertical-align: middle;\n",
              "    }\n",
              "\n",
              "    .dataframe tbody tr th {\n",
              "        vertical-align: top;\n",
              "    }\n",
              "\n",
              "    .dataframe thead th {\n",
              "        text-align: right;\n",
              "    }\n",
              "</style>\n",
              "<table border=\"1\" class=\"dataframe\">\n",
              "  <thead>\n",
              "    <tr style=\"text-align: right;\">\n",
              "      <th></th>\n",
              "      <th>Unnamed: 0</th>\n",
              "      <th>Unnamed: 0.1</th>\n",
              "      <th>id</th>\n",
              "      <th>dialect</th>\n",
              "      <th>tweets</th>\n",
              "    </tr>\n",
              "  </thead>\n",
              "  <tbody>\n",
              "    <tr>\n",
              "      <th>0</th>\n",
              "      <td>0</td>\n",
              "      <td>0</td>\n",
              "      <td>1175358310087892992</td>\n",
              "      <td>4</td>\n",
              "      <td>بالنهايه ينتفض يغير</td>\n",
              "    </tr>\n",
              "    <tr>\n",
              "      <th>1</th>\n",
              "      <td>1</td>\n",
              "      <td>1</td>\n",
              "      <td>1175416117793349632</td>\n",
              "      <td>4</td>\n",
              "      <td>يعني محسوب البشر حيونه وحشيه وتطلبون الغرب يحت...</td>\n",
              "    </tr>\n",
              "    <tr>\n",
              "      <th>2</th>\n",
              "      <td>2</td>\n",
              "      <td>2</td>\n",
              "      <td>1175450108898565888</td>\n",
              "      <td>4</td>\n",
              "      <td>مبين كلامه خليجي</td>\n",
              "    </tr>\n",
              "    <tr>\n",
              "      <th>3</th>\n",
              "      <td>3</td>\n",
              "      <td>3</td>\n",
              "      <td>1175471073770573824</td>\n",
              "      <td>4</td>\n",
              "      <td>يسلملي مرورك وروحك الحلوه</td>\n",
              "    </tr>\n",
              "    <tr>\n",
              "      <th>4</th>\n",
              "      <td>4</td>\n",
              "      <td>4</td>\n",
              "      <td>1175496913145217024</td>\n",
              "      <td>4</td>\n",
              "      <td>وين الغيبه اخ محمد</td>\n",
              "    </tr>\n",
              "    <tr>\n",
              "      <th>5</th>\n",
              "      <td>5</td>\n",
              "      <td>5</td>\n",
              "      <td>1175668034146643968</td>\n",
              "      <td>4</td>\n",
              "      <td>ياخي الارهابي اذا عراقي سعودي فلسطيني وين المش...</td>\n",
              "    </tr>\n",
              "    <tr>\n",
              "      <th>6</th>\n",
              "      <td>6</td>\n",
              "      <td>6</td>\n",
              "      <td>1175670153884983296</td>\n",
              "      <td>4</td>\n",
              "      <td>مطلبي يقدم استقالته وفوگاها اعتذار</td>\n",
              "    </tr>\n",
              "    <tr>\n",
              "      <th>7</th>\n",
              "      <td>7</td>\n",
              "      <td>7</td>\n",
              "      <td>1175671762580856832</td>\n",
              "      <td>4</td>\n",
              "      <td>خلص واله لعيونكم انا ماعندي شيء معه بالعكس متا...</td>\n",
              "    </tr>\n",
              "    <tr>\n",
              "      <th>8</th>\n",
              "      <td>8</td>\n",
              "      <td>8</td>\n",
              "      <td>1175715664398561280</td>\n",
              "      <td>4</td>\n",
              "      <td>يمكن سءال فات الكثير الي يصور شنو موقفه وكانه ...</td>\n",
              "    </tr>\n",
              "    <tr>\n",
              "      <th>9</th>\n",
              "      <td>9</td>\n",
              "      <td>9</td>\n",
              "      <td>1176019816072777728</td>\n",
              "      <td>4</td>\n",
              "      <td>اولا اني ردت رجل جنوبي والي ذكر حجابها ثانيا ا...</td>\n",
              "    </tr>\n",
              "    <tr>\n",
              "      <th>10</th>\n",
              "      <td>10</td>\n",
              "      <td>10</td>\n",
              "      <td>1176068581487992832</td>\n",
              "      <td>4</td>\n",
              "      <td>واله الموضوع جدا حساس ويحير اتفق معك انت لاترو...</td>\n",
              "    </tr>\n",
              "    <tr>\n",
              "      <th>11</th>\n",
              "      <td>11</td>\n",
              "      <td>11</td>\n",
              "      <td>1176068868747538432</td>\n",
              "      <td>4</td>\n",
              "      <td>ان شاء اله اخوه يجمعنه العراق الي بكل جحيمه حلو</td>\n",
              "    </tr>\n",
              "    <tr>\n",
              "      <th>12</th>\n",
              "      <td>12</td>\n",
              "      <td>12</td>\n",
              "      <td>1176198561941413888</td>\n",
              "      <td>4</td>\n",
              "      <td>يسعد مساك سيد الحرف الحزين</td>\n",
              "    </tr>\n",
              "    <tr>\n",
              "      <th>13</th>\n",
              "      <td>13</td>\n",
              "      <td>13</td>\n",
              "      <td>1176199622412427264</td>\n",
              "      <td>4</td>\n",
              "      <td>ه عدوله گلبه ورم عدنه گلك خل اتونس همه بكل شيء...</td>\n",
              "    </tr>\n",
              "    <tr>\n",
              "      <th>14</th>\n",
              "      <td>14</td>\n",
              "      <td>14</td>\n",
              "      <td>1176460355939328000</td>\n",
              "      <td>4</td>\n",
              "      <td>يسلملي مرورك روعات تواصلك</td>\n",
              "    </tr>\n",
              "  </tbody>\n",
              "</table>\n",
              "</div>\n",
              "      <button class=\"colab-df-convert\" onclick=\"convertToInteractive('df-d16c0ece-7cb0-4dab-a129-272192fccd55')\"\n",
              "              title=\"Convert this dataframe to an interactive table.\"\n",
              "              style=\"display:none;\">\n",
              "        \n",
              "  <svg xmlns=\"http://www.w3.org/2000/svg\" height=\"24px\"viewBox=\"0 0 24 24\"\n",
              "       width=\"24px\">\n",
              "    <path d=\"M0 0h24v24H0V0z\" fill=\"none\"/>\n",
              "    <path d=\"M18.56 5.44l.94 2.06.94-2.06 2.06-.94-2.06-.94-.94-2.06-.94 2.06-2.06.94zm-11 1L8.5 8.5l.94-2.06 2.06-.94-2.06-.94L8.5 2.5l-.94 2.06-2.06.94zm10 10l.94 2.06.94-2.06 2.06-.94-2.06-.94-.94-2.06-.94 2.06-2.06.94z\"/><path d=\"M17.41 7.96l-1.37-1.37c-.4-.4-.92-.59-1.43-.59-.52 0-1.04.2-1.43.59L10.3 9.45l-7.72 7.72c-.78.78-.78 2.05 0 2.83L4 21.41c.39.39.9.59 1.41.59.51 0 1.02-.2 1.41-.59l7.78-7.78 2.81-2.81c.8-.78.8-2.07 0-2.86zM5.41 20L4 18.59l7.72-7.72 1.47 1.35L5.41 20z\"/>\n",
              "  </svg>\n",
              "      </button>\n",
              "      \n",
              "  <style>\n",
              "    .colab-df-container {\n",
              "      display:flex;\n",
              "      flex-wrap:wrap;\n",
              "      gap: 12px;\n",
              "    }\n",
              "\n",
              "    .colab-df-convert {\n",
              "      background-color: #E8F0FE;\n",
              "      border: none;\n",
              "      border-radius: 50%;\n",
              "      cursor: pointer;\n",
              "      display: none;\n",
              "      fill: #1967D2;\n",
              "      height: 32px;\n",
              "      padding: 0 0 0 0;\n",
              "      width: 32px;\n",
              "    }\n",
              "\n",
              "    .colab-df-convert:hover {\n",
              "      background-color: #E2EBFA;\n",
              "      box-shadow: 0px 1px 2px rgba(60, 64, 67, 0.3), 0px 1px 3px 1px rgba(60, 64, 67, 0.15);\n",
              "      fill: #174EA6;\n",
              "    }\n",
              "\n",
              "    [theme=dark] .colab-df-convert {\n",
              "      background-color: #3B4455;\n",
              "      fill: #D2E3FC;\n",
              "    }\n",
              "\n",
              "    [theme=dark] .colab-df-convert:hover {\n",
              "      background-color: #434B5C;\n",
              "      box-shadow: 0px 1px 3px 1px rgba(0, 0, 0, 0.15);\n",
              "      filter: drop-shadow(0px 1px 2px rgba(0, 0, 0, 0.3));\n",
              "      fill: #FFFFFF;\n",
              "    }\n",
              "  </style>\n",
              "\n",
              "      <script>\n",
              "        const buttonEl =\n",
              "          document.querySelector('#df-d16c0ece-7cb0-4dab-a129-272192fccd55 button.colab-df-convert');\n",
              "        buttonEl.style.display =\n",
              "          google.colab.kernel.accessAllowed ? 'block' : 'none';\n",
              "\n",
              "        async function convertToInteractive(key) {\n",
              "          const element = document.querySelector('#df-d16c0ece-7cb0-4dab-a129-272192fccd55');\n",
              "          const dataTable =\n",
              "            await google.colab.kernel.invokeFunction('convertToInteractive',\n",
              "                                                     [key], {});\n",
              "          if (!dataTable) return;\n",
              "\n",
              "          const docLinkHtml = 'Like what you see? Visit the ' +\n",
              "            '<a target=\"_blank\" href=https://colab.research.google.com/notebooks/data_table.ipynb>data table notebook</a>'\n",
              "            + ' to learn more about interactive tables.';\n",
              "          element.innerHTML = '';\n",
              "          dataTable['output_type'] = 'display_data';\n",
              "          await google.colab.output.renderOutput(dataTable, element);\n",
              "          const docLink = document.createElement('div');\n",
              "          docLink.innerHTML = docLinkHtml;\n",
              "          element.appendChild(docLink);\n",
              "        }\n",
              "      </script>\n",
              "    </div>\n",
              "  </div>\n",
              "  "
            ],
            "text/plain": [
              "    Unnamed: 0  Unnamed: 0.1                   id  dialect  \\\n",
              "0            0             0  1175358310087892992        4   \n",
              "1            1             1  1175416117793349632        4   \n",
              "2            2             2  1175450108898565888        4   \n",
              "3            3             3  1175471073770573824        4   \n",
              "4            4             4  1175496913145217024        4   \n",
              "5            5             5  1175668034146643968        4   \n",
              "6            6             6  1175670153884983296        4   \n",
              "7            7             7  1175671762580856832        4   \n",
              "8            8             8  1175715664398561280        4   \n",
              "9            9             9  1176019816072777728        4   \n",
              "10          10            10  1176068581487992832        4   \n",
              "11          11            11  1176068868747538432        4   \n",
              "12          12            12  1176198561941413888        4   \n",
              "13          13            13  1176199622412427264        4   \n",
              "14          14            14  1176460355939328000        4   \n",
              "\n",
              "                                               tweets  \n",
              "0                                 بالنهايه ينتفض يغير  \n",
              "1   يعني محسوب البشر حيونه وحشيه وتطلبون الغرب يحت...  \n",
              "2                                    مبين كلامه خليجي  \n",
              "3                           يسلملي مرورك وروحك الحلوه  \n",
              "4                                  وين الغيبه اخ محمد  \n",
              "5   ياخي الارهابي اذا عراقي سعودي فلسطيني وين المش...  \n",
              "6                  مطلبي يقدم استقالته وفوگاها اعتذار  \n",
              "7   خلص واله لعيونكم انا ماعندي شيء معه بالعكس متا...  \n",
              "8   يمكن سءال فات الكثير الي يصور شنو موقفه وكانه ...  \n",
              "9   اولا اني ردت رجل جنوبي والي ذكر حجابها ثانيا ا...  \n",
              "10  واله الموضوع جدا حساس ويحير اتفق معك انت لاترو...  \n",
              "11    ان شاء اله اخوه يجمعنه العراق الي بكل جحيمه حلو  \n",
              "12                         يسعد مساك سيد الحرف الحزين  \n",
              "13  ه عدوله گلبه ورم عدنه گلك خل اتونس همه بكل شيء...  \n",
              "14                          يسلملي مرورك روعات تواصلك  "
            ]
          },
          "metadata": {},
          "execution_count": 6
        }
      ],
      "source": [
        "df.head(15)"
      ]
    },
    {
      "cell_type": "markdown",
      "metadata": {
        "id": "zkvbQHmp6UHf"
      },
      "source": [
        "**Splitting the dataset**"
      ]
    },
    {
      "cell_type": "code",
      "execution_count": 7,
      "metadata": {
        "colab": {
          "base_uri": "https://localhost:8080/"
        },
        "id": "LAUy0D5Faz-s",
        "outputId": "a50fed16-0210-41ea-8083-df7c8b87ec0e"
      },
      "outputs": [
        {
          "output_type": "stream",
          "name": "stdout",
          "text": [
            "<class 'pandas.core.frame.DataFrame'>\n",
            "RangeIndex: 458197 entries, 0 to 458196\n",
            "Data columns (total 5 columns):\n",
            " #   Column        Non-Null Count   Dtype \n",
            "---  ------        --------------   ----- \n",
            " 0   Unnamed: 0    458197 non-null  int64 \n",
            " 1   Unnamed: 0.1  458197 non-null  int64 \n",
            " 2   id            458197 non-null  int64 \n",
            " 3   dialect       458197 non-null  int64 \n",
            " 4   tweets        457992 non-null  object\n",
            "dtypes: int64(4), object(1)\n",
            "memory usage: 17.5+ MB\n"
          ]
        }
      ],
      "source": [
        "df.info()"
      ]
    },
    {
      "cell_type": "code",
      "execution_count": 8,
      "metadata": {
        "id": "4V5gej9m6Uf7"
      },
      "outputs": [],
      "source": [
        "features = df.tweets.values.astype(str)\n",
        "lables = df.dialect.values.astype('float32')"
      ]
    },
    {
      "cell_type": "code",
      "execution_count": 9,
      "metadata": {
        "id": "BNl_iSPOZrDM"
      },
      "outputs": [],
      "source": [
        "X_train, X_test, y_train, y_test = train_test_split(features, lables, random_state=42, test_size=0.15, shuffle=True)"
      ]
    },
    {
      "cell_type": "code",
      "execution_count": 10,
      "metadata": {
        "colab": {
          "base_uri": "https://localhost:8080/"
        },
        "id": "UR3vCwTcbMdR",
        "outputId": "e5c34fca-e3dd-4c30-d870-bc41bf23807c"
      },
      "outputs": [
        {
          "output_type": "execute_result",
          "data": {
            "text/plain": [
              "array(['ياربي ياحبيبي قريب باقرب وقت يصدر قانون يجرم العنصرين الي يصنفوا المجتمع مجنس واصلي واله عيب وسط التطور الي تشهده بلادنا لسه ناس تصنفنا ياخي الحكومه ساوت الجميع مين اداكم الحق تصنفونا ودحين يتكاثر الذباب العنصري بالمنشن يقولوا اكيد انتي متجنسه علشان كدا',\n",
              "       'هوي مش عبث بحبو لشيخ سعد هوالحريه',\n",
              "       'شو هيدا بالاحلام بنسترجي نشوفها هيك',\n",
              "       'خصرها دقاق وفزرتها تذبح الروح وغصنها ليان وفيها لطف ورهاوه والصدر زامي والحڳي ضحڳ ومزوح والريق طعمه طعم الحلاوه',\n",
              "       'انها خطوه متاخره مشكورين عليها'], dtype='<U280')"
            ]
          },
          "metadata": {},
          "execution_count": 10
        }
      ],
      "source": [
        "X_train[:5]"
      ]
    },
    {
      "cell_type": "code",
      "execution_count": 11,
      "metadata": {
        "colab": {
          "base_uri": "https://localhost:8080/"
        },
        "id": "W-iNpc0SbOPV",
        "outputId": "68a4c406-8960-4132-f6ca-dca1c5080634"
      },
      "outputs": [
        {
          "output_type": "execute_result",
          "data": {
            "text/plain": [
              "array([13.,  7.,  7., 12., 12.], dtype=float32)"
            ]
          },
          "metadata": {},
          "execution_count": 11
        }
      ],
      "source": [
        "y_train[:5]"
      ]
    },
    {
      "cell_type": "markdown",
      "metadata": {
        "id": "QDeetVPp6QnF"
      },
      "source": [
        "# Feature extraction and Machine learning model pipeling"
      ]
    },
    {
      "cell_type": "markdown",
      "metadata": {
        "id": "8VD1XyglatXK"
      },
      "source": [
        "**Random Forest Classifier**"
      ]
    },
    {
      "cell_type": "code",
      "execution_count": null,
      "metadata": {
        "colab": {
          "base_uri": "https://localhost:8080/"
        },
        "id": "_zPc4Bkg6Tua",
        "outputId": "f1faf720-c50f-4058-b8a4-f3afdc90b872"
      },
      "outputs": [
        {
          "name": "stderr",
          "output_type": "stream",
          "text": [
            "[Parallel(n_jobs=-1)]: Using backend ThreadingBackend with 2 concurrent workers.\n"
          ]
        },
        {
          "name": "stdout",
          "output_type": "stream",
          "text": [
            "building tree 1 of 15\n",
            "building tree 2 of 15\n",
            "building tree 3 of 15\n",
            "building tree 4 of 15\n",
            "building tree 5 of 15\n",
            "building tree 6 of 15\n",
            "building tree 7 of 15\n",
            "building tree 8 of 15\n",
            "building tree 9 of 15\n",
            "building tree 10 of 15\n",
            "building tree 11 of 15\n",
            "building tree 12 of 15\n",
            "building tree 13 of 15\n",
            "building tree 14 of 15\n",
            "building tree 15 of 15\n"
          ]
        },
        {
          "name": "stderr",
          "output_type": "stream",
          "text": [
            "[Parallel(n_jobs=-1)]: Done  15 out of  15 | elapsed: 19.2min finished\n",
            "/usr/local/lib/python3.7/dist-packages/sklearn/ensemble/_forest.py:564: UserWarning: Some inputs do not have OOB scores. This probably means too few trees were used to compute any reliable OOB estimates.\n",
            "  UserWarning,\n"
          ]
        },
        {
          "data": {
            "text/plain": [
              "Pipeline(steps=[('tfidf', TfidfVectorizer()),\n",
              "                ('clf',\n",
              "                 RandomForestClassifier(min_samples_split=10, n_estimators=15,\n",
              "                                        n_jobs=-1, oob_score=True,\n",
              "                                        random_state=1, verbose=2))])"
            ]
          },
          "execution_count": 13,
          "metadata": {},
          "output_type": "execute_result"
        }
      ],
      "source": [
        "model_rf = Pipeline([('tfidf', TfidfVectorizer()),\n",
        "               ('clf', RandomForestClassifier(criterion='gini',\n",
        "    n_estimators=15, \n",
        "    min_samples_split=10, \n",
        "    min_samples_leaf=1, \n",
        "    max_features='auto', \n",
        "    oob_score=True, \n",
        "    random_state=1,\n",
        "    n_jobs=-1,\n",
        "    verbose=2)),\n",
        "              ])\n",
        "model_rf.fit(X_train, y_train)"
      ]
    },
    {
      "cell_type": "code",
      "execution_count": null,
      "metadata": {
        "colab": {
          "base_uri": "https://localhost:8080/"
        },
        "id": "FxgpjIqzczsa",
        "outputId": "7537bc86-9b21-4cec-d8a8-2516d53d9cbf"
      },
      "outputs": [
        {
          "name": "stderr",
          "output_type": "stream",
          "text": [
            "[Parallel(n_jobs=2)]: Using backend ThreadingBackend with 2 concurrent workers.\n",
            "[Parallel(n_jobs=2)]: Done  15 out of  15 | elapsed:    7.5s finished\n"
          ]
        },
        {
          "name": "stdout",
          "output_type": "stream",
          "text": [
            "Test Set Accuracy: 40.28953877491634 %\n",
            "\n",
            "\n",
            "Classification Report : \n",
            "\n",
            "              precision    recall  f1-score   support\n",
            "\n",
            "         0.0       0.32      0.24      0.28      4120\n",
            "         1.0       0.26      0.18      0.21      3974\n",
            "         2.0       0.53      0.32      0.40      2477\n",
            "         3.0       0.52      0.81      0.63      8581\n",
            "         4.0       0.51      0.36      0.42      2279\n",
            "         5.0       0.30      0.19      0.23      4232\n",
            "         6.0       0.31      0.50      0.39      6275\n",
            "         7.0       0.51      0.53      0.52      4214\n",
            "         8.0       0.46      0.53      0.49      5479\n",
            "         9.0       0.62      0.45      0.52      1691\n",
            "        10.0       0.29      0.20      0.24      2894\n",
            "        11.0       0.34      0.45      0.39      6464\n",
            "        12.0       0.35      0.33      0.34      4640\n",
            "        13.0       0.30      0.26      0.28      4050\n",
            "        14.0       0.48      0.35      0.41      2116\n",
            "        15.0       0.37      0.14      0.20      2421\n",
            "        16.0       0.55      0.23      0.33      1333\n",
            "        17.0       0.28      0.09      0.14      1490\n",
            "\n",
            "    accuracy                           0.40     68730\n",
            "   macro avg       0.41      0.34      0.36     68730\n",
            "weighted avg       0.40      0.40      0.38     68730\n",
            "\n"
          ]
        }
      ],
      "source": [
        "# Making a prediction on the test set\n",
        "prediction = model_rf.predict(X_test)\n",
        "\n",
        "# Evaluating the model\n",
        "print(f\"Test Set Accuracy: {accuracy_score(y_test, prediction) * 100} %\\n\\n\")\n",
        "print(\n",
        "    f\"Classification Report : \\n\\n{classification_report(y_test, prediction)}\")"
      ]
    },
    {
      "cell_type": "code",
      "execution_count": null,
      "metadata": {
        "colab": {
          "base_uri": "https://localhost:8080/"
        },
        "id": "KonFhUB0KtH4",
        "outputId": "6b218d63-4baa-4f62-c518-d5795b7a3fe7"
      },
      "outputs": [
        {
          "name": "stdout",
          "output_type": "stream",
          "text": [
            "Model saved\n"
          ]
        }
      ],
      "source": [
        "import pickle \n",
        "pickle.dump(model_rf, open(\"Rf_model.pkl\", 'wb'))\n",
        "print(\"Model saved\")"
      ]
    },
    {
      "cell_type": "code",
      "execution_count": null,
      "metadata": {
        "id": "Exe3sE-Ll88y"
      },
      "outputs": [],
      "source": [
        "!cp Rf_model.pkl /content/drive/MyDrive/"
      ]
    },
    {
      "cell_type": "markdown",
      "metadata": {
        "id": "OzRA_Wiand7U"
      },
      "source": [
        "**Naive Bayes classifier for multinomial models.**"
      ]
    },
    {
      "cell_type": "code",
      "execution_count": 21,
      "metadata": {
        "colab": {
          "base_uri": "https://localhost:8080/"
        },
        "id": "Yfl8e9wtndlQ",
        "outputId": "ea5d2699-e674-46cb-92f1-074cd8442d9f"
      },
      "outputs": [
        {
          "output_type": "execute_result",
          "data": {
            "text/plain": [
              "Pipeline(steps=[('tfidf', TfidfVectorizer()), ('mnb', MultinomialNB())])"
            ]
          },
          "metadata": {},
          "execution_count": 21
        }
      ],
      "source": [
        "model_MNb = Pipeline([('tfidf', TfidfVectorizer()),\n",
        "               ('mnb',MultinomialNB())])\n",
        "model_MNb.fit(X_train, y_train)"
      ]
    },
    {
      "cell_type": "code",
      "execution_count": 22,
      "metadata": {
        "id": "SFACEoAhoa9S",
        "colab": {
          "base_uri": "https://localhost:8080/"
        },
        "outputId": "40452e46-b660-4e42-ddc0-3ba79d9bd409"
      },
      "outputs": [
        {
          "output_type": "stream",
          "name": "stdout",
          "text": [
            "Test Set Accuracy: 40.16586643387167 %\n",
            "\n",
            "\n",
            "Classification Report : \n",
            "\n",
            "              precision    recall  f1-score   support\n",
            "\n",
            "         0.0       0.71      0.15      0.24      4120\n",
            "         1.0       0.64      0.07      0.13      3974\n",
            "         2.0       0.88      0.18      0.30      2477\n",
            "         3.0       0.35      0.97      0.52      8581\n",
            "         4.0       0.97      0.12      0.21      2279\n",
            "         5.0       0.69      0.06      0.11      4232\n",
            "         6.0       0.29      0.79      0.42      6275\n",
            "         7.0       0.82      0.44      0.57      4214\n",
            "         8.0       0.66      0.58      0.62      5479\n",
            "         9.0       0.99      0.22      0.36      1691\n",
            "        10.0       0.94      0.04      0.07      2894\n",
            "        11.0       0.32      0.66      0.43      6464\n",
            "        12.0       0.51      0.38      0.44      4640\n",
            "        13.0       0.61      0.15      0.24      4050\n",
            "        14.0       0.98      0.08      0.15      2116\n",
            "        15.0       0.99      0.03      0.05      2421\n",
            "        16.0       0.94      0.02      0.05      1333\n",
            "        17.0       1.00      0.01      0.01      1490\n",
            "\n",
            "    accuracy                           0.40     68730\n",
            "   macro avg       0.74      0.27      0.27     68730\n",
            "weighted avg       0.63      0.40      0.34     68730\n",
            "\n"
          ]
        }
      ],
      "source": [
        "# Making a prediction on the test set\n",
        "prediction = model_MNb.predict(X_test)\n",
        "\n",
        "# Evaluating the model\n",
        "print(f\"Test Set Accuracy: {accuracy_score(y_test, prediction) * 100} %\\n\\n\")\n",
        "print(\n",
        "    f\"Classification Report : \\n\\n{classification_report(y_test, prediction)}\")"
      ]
    },
    {
      "cell_type": "code",
      "execution_count": 23,
      "metadata": {
        "id": "2PEuQ7_Foqow",
        "colab": {
          "base_uri": "https://localhost:8080/"
        },
        "outputId": "1e5d294a-490d-45a2-8f20-91663ed91cd9"
      },
      "outputs": [
        {
          "output_type": "stream",
          "name": "stdout",
          "text": [
            "Model saved\n"
          ]
        }
      ],
      "source": [
        "import pickle \n",
        "pickle.dump(model_MNb, open(\"MNb_model.pkl\", 'wb'))\n",
        "print(\"Model saved\")"
      ]
    },
    {
      "cell_type": "code",
      "execution_count": 24,
      "metadata": {
        "id": "K4gXsl1uou0z"
      },
      "outputs": [],
      "source": [
        "!cp MNb_model.pkl /content/drive/MyDrive/"
      ]
    },
    {
      "cell_type": "markdown",
      "metadata": {
        "id": "R_tGAlMCmhCx"
      },
      "source": [
        "**Linear models with stochastic gradient descent (SGD) learning**"
      ]
    },
    {
      "cell_type": "code",
      "execution_count": null,
      "metadata": {
        "colab": {
          "base_uri": "https://localhost:8080/"
        },
        "id": "4AHa0HqXlntH",
        "outputId": "297ea37c-5497-473d-fad7-4aa5f8fc76c4"
      },
      "outputs": [
        {
          "data": {
            "text/plain": [
              "Pipeline(steps=[('tfidf', TfidfVectorizer()), ('sgd', SGDClassifier())])"
            ]
          },
          "execution_count": 14,
          "metadata": {},
          "output_type": "execute_result"
        }
      ],
      "source": [
        "model_sgd = Pipeline([('tfidf', TfidfVectorizer()),\n",
        "               ('sgd',SGDClassifier(max_iter=1000, tol=1e-3))])\n",
        "model_sgd.fit(X_train, y_train)"
      ]
    },
    {
      "cell_type": "code",
      "execution_count": null,
      "metadata": {
        "colab": {
          "base_uri": "https://localhost:8080/"
        },
        "id": "izk2wgntnTuM",
        "outputId": "ed574d95-6e6a-4720-f7a3-ebb14bd0cbc6"
      },
      "outputs": [
        {
          "name": "stdout",
          "output_type": "stream",
          "text": [
            "Test Set Accuracy: 49.47912119889422 %\n",
            "\n",
            "\n",
            "Classification Report : \n",
            "\n",
            "              precision    recall  f1-score   support\n",
            "\n",
            "         0.0       0.46      0.39      0.42      4120\n",
            "         1.0       0.36      0.26      0.30      3974\n",
            "         2.0       0.57      0.45      0.50      2477\n",
            "         3.0       0.52      0.89      0.66      8581\n",
            "         4.0       0.54      0.55      0.55      2279\n",
            "         5.0       0.43      0.23      0.30      4232\n",
            "         6.0       0.48      0.55      0.51      6275\n",
            "         7.0       0.53      0.70      0.60      4214\n",
            "         8.0       0.58      0.66      0.62      5479\n",
            "         9.0       0.56      0.60      0.58      1691\n",
            "        10.0       0.42      0.28      0.34      2894\n",
            "        11.0       0.48      0.45      0.47      6464\n",
            "        12.0       0.48      0.46      0.47      4640\n",
            "        13.0       0.41      0.36      0.38      4050\n",
            "        14.0       0.53      0.37      0.43      2116\n",
            "        15.0       0.41      0.19      0.26      2421\n",
            "        16.0       0.55      0.36      0.44      1333\n",
            "        17.0       0.40      0.16      0.23      1490\n",
            "\n",
            "    accuracy                           0.49     68730\n",
            "   macro avg       0.48      0.44      0.45     68730\n",
            "weighted avg       0.48      0.49      0.47     68730\n",
            "\n"
          ]
        }
      ],
      "source": [
        "# Making a prediction on the test set\n",
        "prediction = model_sgd.predict(X_test)\n",
        "\n",
        "# Evaluating the model\n",
        "print(f\"Test Set Accuracy: {accuracy_score(y_test, prediction) * 100} %\\n\\n\")\n",
        "print(\n",
        "    f\"Classification Report : \\n\\n{classification_report(y_test, prediction)}\")"
      ]
    },
    {
      "cell_type": "code",
      "execution_count": null,
      "metadata": {
        "colab": {
          "base_uri": "https://localhost:8080/"
        },
        "id": "CxehNU1DmMjh",
        "outputId": "9509c265-c26d-46a6-e55e-ea4a1faba455"
      },
      "outputs": [
        {
          "name": "stdout",
          "output_type": "stream",
          "text": [
            "Model saved\n"
          ]
        }
      ],
      "source": [
        "import pickle \n",
        "pickle.dump(model_sgd, open(\"SGD_model.pkl\", 'wb'))\n",
        "print(\"Model saved\")"
      ]
    },
    {
      "cell_type": "code",
      "execution_count": null,
      "metadata": {
        "id": "b0Hgu21qm929"
      },
      "outputs": [],
      "source": [
        "!cp SGD_model.pkl /content/drive/MyDrive/"
      ]
    }
  ],
  "metadata": {
    "colab": {
      "collapsed_sections": [],
      "name": "machine-learning-training.ipynb",
      "provenance": []
    },
    "kernelspec": {
      "display_name": "Python 3",
      "name": "python3"
    },
    "language_info": {
      "name": "python"
    }
  },
  "nbformat": 4,
  "nbformat_minor": 0
}